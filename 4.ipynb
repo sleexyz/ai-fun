{
 "cells": [
  {
   "cell_type": "code",
   "execution_count": 139,
   "metadata": {},
   "outputs": [
    {
     "data": {
      "text/plain": [
       "tensor([[0.5974, 0.0505, 0.3552, 0.6191, 0.7688],\n",
       "        [0.0489, 0.9987, 0.4672, 0.8783, 0.3374],\n",
       "        [0.8400, 0.6545, 0.3348, 0.8198, 0.9866]])"
      ]
     },
     "execution_count": 139,
     "metadata": {},
     "output_type": "execute_result"
    }
   ],
   "source": [
    "import torch\n",
    "foo =  torch.rand((3, 5))\n",
    "\n",
    "foo"
   ]
  },
  {
   "cell_type": "code",
   "execution_count": 140,
   "metadata": {},
   "outputs": [
    {
     "data": {
      "text/plain": [
       "tensor([[0.4955, 0.5679, 0.3857, 0.7724, 0.6976]])"
      ]
     },
     "execution_count": 140,
     "metadata": {},
     "output_type": "execute_result"
    }
   ],
   "source": [
    "foo.mean(0, keepdim=True)\n"
   ]
  },
  {
   "cell_type": "markdown",
   "metadata": {},
   "source": [
    "E01: I did not get around to seeing what happens when you initialize all weights and biases to zero. Try this and train the neural net. You might think either that 1) the network trains just fine or 2) the network doesn't train at all, but actually it is 3) the network trains but only partially, and achieves a pretty bad final performance. Inspect the gradients and activations to figure out what is happening and why the network is only partially training, and what part is being trained exactly.\n",
    "\n",
    "\n",
    "The bias of the last linear layer of the network is being trained.\n",
    "The inputs get zeroed. So we're just learning the unconditioned probability distribution of characters in the training set.\n",
    "\n"
   ]
  },
  {
   "cell_type": "code",
   "execution_count": 141,
   "metadata": {},
   "outputs": [],
   "source": [
    "import torch\n",
    "import torch.nn.functional as F\n",
    "import matplotlib.pyplot as plt # for making figures\n",
    "%matplotlib inline"
   ]
  },
  {
   "cell_type": "code",
   "execution_count": 142,
   "metadata": {},
   "outputs": [
    {
     "data": {
      "text/plain": [
       "['emma', 'olivia', 'ava', 'isabella', 'sophia', 'charlotte', 'mia', 'amelia']"
      ]
     },
     "execution_count": 142,
     "metadata": {},
     "output_type": "execute_result"
    }
   ],
   "source": [
    "# read in all the words\n",
    "words = open('makemore/names.txt', 'r').read().splitlines()\n",
    "words[:8]\n"
   ]
  },
  {
   "cell_type": "code",
   "execution_count": 143,
   "metadata": {},
   "outputs": [
    {
     "name": "stdout",
     "output_type": "stream",
     "text": [
      "{1: 'a', 2: 'b', 3: 'c', 4: 'd', 5: 'e', 6: 'f', 7: 'g', 8: 'h', 9: 'i', 10: 'j', 11: 'k', 12: 'l', 13: 'm', 14: 'n', 15: 'o', 16: 'p', 17: 'q', 18: 'r', 19: 's', 20: 't', 21: 'u', 22: 'v', 23: 'w', 24: 'x', 25: 'y', 26: 'z', 0: '.'}\n",
      "27\n"
     ]
    }
   ],
   "source": [
    "# build the vocabulary of characters and mappings to/from integers\n",
    "chars = sorted(list(set(''.join(words))))\n",
    "stoi = {s:i+1 for i,s in enumerate(chars)}\n",
    "stoi['.'] = 0\n",
    "itos = {i:s for s,i in stoi.items()}\n",
    "vocab_size = len(itos)\n",
    "print(itos)\n",
    "print(vocab_size)"
   ]
  },
  {
   "cell_type": "code",
   "execution_count": 144,
   "metadata": {},
   "outputs": [
    {
     "name": "stdout",
     "output_type": "stream",
     "text": [
      "torch.Size([182625, 3]) torch.Size([182625])\n",
      "torch.Size([22655, 3]) torch.Size([22655])\n",
      "torch.Size([22866, 3]) torch.Size([22866])\n"
     ]
    }
   ],
   "source": [
    "# build the dataset\n",
    "block_size = 3 # context length: how many characters do we take to predict the next one?\n",
    "\n",
    "def build_dataset(words):  \n",
    "  X, Y = [], []\n",
    "  \n",
    "  for w in words:\n",
    "    context = [0] * block_size\n",
    "    for ch in w + '.':\n",
    "      ix = stoi[ch]\n",
    "      X.append(context)\n",
    "      Y.append(ix)\n",
    "      context = context[1:] + [ix] # crop and append\n",
    "\n",
    "  X = torch.tensor(X)\n",
    "  Y = torch.tensor(Y)\n",
    "  print(X.shape, Y.shape)\n",
    "  return X, Y\n",
    "\n",
    "import random\n",
    "random.seed(42)\n",
    "random.shuffle(words)\n",
    "n1 = int(0.8*len(words))\n",
    "n2 = int(0.9*len(words))\n",
    "\n",
    "Xtr,  Ytr  = build_dataset(words[:n1])     # 80%\n",
    "Xdev, Ydev = build_dataset(words[n1:n2])   # 10%\n",
    "Xte,  Yte  = build_dataset(words[n2:])     # 10%"
   ]
  },
  {
   "cell_type": "code",
   "execution_count": 147,
   "metadata": {},
   "outputs": [
    {
     "name": "stdout",
     "output_type": "stream",
     "text": [
      "46497\n"
     ]
    }
   ],
   "source": [
    "# Let's train a deeper network\n",
    "# The classes we create here are the same API as nn.Module in PyTorch\n",
    "\n",
    "class Linear:\n",
    "  \n",
    "  def __init__(self, fan_in, fan_out, bias=True):\n",
    "    self.weight = torch.randn((fan_in, fan_out), generator=g) / fan_in**0.5\n",
    "    self.bias = torch.zeros(fan_out) if bias else None\n",
    "\n",
    "  def __call__(self, x):\n",
    "    self.out = x @ self.weight\n",
    "    if self.bias is not None:\n",
    "      self.out += self.bias\n",
    "    return self.out\n",
    "\n",
    "  def parameters(self):\n",
    "    return [self.weight] + ([] if self.bias is None else [self.bias])\n",
    "\n",
    "\n",
    "class BatchNorm1d:\n",
    "  \n",
    "  def __init__(self, dim, eps=1e-5, momentum=0.1):\n",
    "    self.eps = eps\n",
    "    self.momentum = momentum\n",
    "    self.training = True\n",
    "    # parameters (trained with backprop)\n",
    "    self.gamma = torch.ones(dim)\n",
    "    self.beta = torch.zeros(dim)\n",
    "    # buffers (trained with a running 'momentum update')\n",
    "    self.running_mean = torch.zeros(dim)\n",
    "    self.running_var = torch.ones(dim)\n",
    "  \n",
    "  def __call__(self, x):\n",
    "    # calculate the forward pass\n",
    "    if self.training:\n",
    "      xmean = x.mean(0, keepdim=True) # batch mean\n",
    "      xvar = x.var(0, keepdim=True) # batch variance\n",
    "    else:\n",
    "      xmean = self.running_mean\n",
    "      xvar = self.running_var\n",
    "    xhat = (x - xmean) / torch.sqrt(xvar + self.eps) # normalize to unit variance\n",
    "    self.out = self.gamma * xhat + self.beta\n",
    "    # update the buffers\n",
    "    if self.training:\n",
    "      with torch.no_grad():\n",
    "        self.running_mean = (1 - self.momentum) * self.running_mean + self.momentum * xmean\n",
    "        self.running_var = (1 - self.momentum) * self.running_var + self.momentum * xvar\n",
    "    return self.out\n",
    "  \n",
    "  def parameters(self):\n",
    "    return [self.gamma, self.beta]\n",
    "\n",
    "class Tanh:\n",
    "  def __call__(self, x):\n",
    "    self.out = torch.tanh(x)\n",
    "    return self.out\n",
    "  def parameters(self):\n",
    "    return []\n",
    "\n",
    "n_embd = 10 # the dimensionality of the character embedding vectors\n",
    "n_hidden = 100 # the number of neurons in the hidden layer of the MLP\n",
    "g = torch.Generator().manual_seed(2147483647) # for reproducibility\n",
    "\n",
    "C = torch.randn((vocab_size, n_embd),            generator=g)\n",
    "# layers = [\n",
    "#   Linear(n_embd * block_size, n_hidden, bias=False), BatchNorm1d(n_hidden), Tanh(),\n",
    "#   Linear(           n_hidden, n_hidden, bias=False), BatchNorm1d(n_hidden), Tanh(),\n",
    "#   Linear(           n_hidden, n_hidden, bias=False), BatchNorm1d(n_hidden), Tanh(),\n",
    "#   Linear(           n_hidden, n_hidden, bias=False), BatchNorm1d(n_hidden), Tanh(),\n",
    "#   Linear(           n_hidden, n_hidden, bias=False), BatchNorm1d(n_hidden), Tanh(),\n",
    "#   Linear(           n_hidden, vocab_size, bias=False), BatchNorm1d(vocab_size),\n",
    "# ]\n",
    "layers = [\n",
    "  Linear(n_embd * block_size, n_hidden), Tanh(),\n",
    "  Linear(           n_hidden, n_hidden), Tanh(),\n",
    "  Linear(           n_hidden, n_hidden), Tanh(),\n",
    "  Linear(           n_hidden, n_hidden), Tanh(),\n",
    "  Linear(           n_hidden, n_hidden), Tanh(),\n",
    "  Linear(           n_hidden, vocab_size),\n",
    "]\n",
    "\n",
    "with torch.no_grad():\n",
    "  # last layer: make less confident\n",
    "  # layers[-1].gamma *= 0.1\n",
    "  #layers[-1].weight *= 0.1\n",
    "  # all other layers: apply gain\n",
    "  for layer in layers:\n",
    "    if isinstance(layer, Linear):\n",
    "      layer.weight *= 0 #5/3\n",
    "      layer.bias *= 0\n",
    "\n",
    "parameters = [C] + [p for layer in layers for p in layer.parameters()]\n",
    "print(sum(p.nelement() for p in parameters)) # number of parameters in total\n",
    "for p in parameters:\n",
    "  p.requires_grad = True"
   ]
  },
  {
   "cell_type": "code",
   "execution_count": 200,
   "metadata": {},
   "outputs": [
    {
     "name": "stdout",
     "output_type": "stream",
     "text": [
      "      0/  20000: 2.6169\n",
      "  10000/  20000: 3.1447\n"
     ]
    }
   ],
   "source": [
    "# same optimization as last time\n",
    "max_steps = 20000\n",
    "batch_size = 32\n",
    "lossi = []\n",
    "ud = []\n",
    "\n",
    "for i in range(max_steps):\n",
    "  \n",
    "  # minibatch construct\n",
    "  ix = torch.randint(0, Xtr.shape[0], (batch_size,), generator=g)\n",
    "  Xb, Yb = Xtr[ix], Ytr[ix] # batch X,Y\n",
    "  \n",
    "  # forward pass\n",
    "  emb = C[Xb] # embed the characters into vectors\n",
    "  x = emb.view(emb.shape[0], -1) # concatenate the vectors\n",
    "  for layer in layers:\n",
    "    x = layer(x)\n",
    "  loss = F.cross_entropy(x, Yb) # loss function\n",
    "  \n",
    "  # backward pass\n",
    "  for layer in layers:\n",
    "    layer.out.retain_grad() # AFTER_DEBUG: would take out retain_graph\n",
    "  for p in parameters:\n",
    "    p.grad = None\n",
    "  loss.backward()\n",
    "  \n",
    "  # update\n",
    "  lr = 0.01 if i < 150000 else 0.01 # step learning rate decay\n",
    "  for p in parameters:\n",
    "    p.data += -lr * p.grad\n",
    "\n",
    "  # track stats\n",
    "  if i % 10000 == 0: # print every once in a while\n",
    "    print(f'{i:7d}/{max_steps:7d}: {loss.item():.4f}')\n",
    "  lossi.append(loss.log10().item())\n",
    "  with torch.no_grad():\n",
    "    ud.append([((lr*p.grad).std() / p.data.std()).log10().item() for p in parameters])\n",
    "\n",
    "  # if i >= 1000:\n",
    "  #   break # AFTER_DEBUG: would take out obviously to run full optimization"
   ]
  },
  {
   "cell_type": "code",
   "execution_count": 203,
   "metadata": {},
   "outputs": [
    {
     "data": {
      "text/plain": [
       "tensor([[-0., 0., -0.,  ..., -0., -0., 0.],\n",
       "        [0., -0., -0.,  ..., 0., 0., -0.],\n",
       "        [0., -0., -0.,  ..., -0., 0., -0.],\n",
       "        ...,\n",
       "        [-0., 0., 0.,  ..., -0., -0., 0.],\n",
       "        [-0., -0., 0.,  ..., -0., -0., -0.],\n",
       "        [-0., -0., -0.,  ..., 0., 0., -0.]], requires_grad=True)"
      ]
     },
     "execution_count": 203,
     "metadata": {},
     "output_type": "execute_result"
    }
   ],
   "source": [
    "jlkjlayers[-1].weight"
   ]
  },
  {
   "cell_type": "code",
   "execution_count": 210,
   "metadata": {},
   "outputs": [
    {
     "data": {
      "text/plain": [
       "tensor(0.0002, grad_fn=<SumBackward0>)"
      ]
     },
     "execution_count": 210,
     "metadata": {},
     "output_type": "execute_result"
    }
   ],
   "source": []
  },
  {
   "cell_type": "code",
   "execution_count": 232,
   "metadata": {},
   "outputs": [
    {
     "name": "stdout",
     "output_type": "stream",
     "text": [
      "tensor([0.1398, 0.1492, 0.0114, 0.0153, 0.0244, 0.0899, 0.0040, 0.0086, 0.0334,\n",
      "        0.0758, 0.0127, 0.0222, 0.0616, 0.0284, 0.0811, 0.0344, 0.0045, 0.0017,\n",
      "        0.0561, 0.0359, 0.0242, 0.0134, 0.0110, 0.0042, 0.0033, 0.0428, 0.0107],\n",
      "       grad_fn=<DivBackward0>)\n",
      "tensor(1., grad_fn=<SumBackward0>)\n"
     ]
    },
    {
     "data": {
      "image/png": "[encoded data removed]",
      "text/plain": [
       "<Figure size 640x480 with 1 Axes>"
      ]
     },
     "metadata": {},
     "output_type": "display_data"
    },
    {
     "name": "stdout",
     "output_type": "stream",
     "text": [
      ".  0.14\n",
      "a  0.15\n",
      "b  0.01\n",
      "c  0.02\n",
      "d  0.02\n",
      "e  0.09\n",
      "f  0.00\n",
      "g  0.01\n",
      "h  0.03\n",
      "i  0.08\n",
      "j  0.01\n",
      "k  0.02\n",
      "l  0.06\n",
      "m  0.03\n",
      "n  0.08\n",
      "o  0.03\n",
      "p  0.00\n",
      "q  0.00\n",
      "r  0.06\n",
      "s  0.04\n",
      "t  0.02\n",
      "u  0.01\n",
      "v  0.01\n",
      "w  0.00\n",
      "x  0.00\n",
      "y  0.04\n",
      "z  0.01\n"
     ]
    }
   ],
   "source": [
    "import matplotlib.pyplot as plt\n",
    "\n",
    "prob = torch.exp(layers[-1].bias)\n",
    "prob = prob / prob.sum()\n",
    "print(prob)\n",
    "print(prob.sum())\n",
    "\n",
    "bias = prob.detach().numpy()  # Convert tensor to numpy array\n",
    "indices = range(len(bias))  # Create indices for x-axis\n",
    "\n",
    "plt.bar(indices, bias)\n",
    "plt.show()\n",
    "\n",
    "for i, a in enumerate(bias):\n",
    "    print(f'{itos[i]} {a: .2f}')"
   ]
  },
  {
   "cell_type": "code",
   "execution_count": 241,
   "metadata": {},
   "outputs": [
    {
     "data": {
      "image/png": "[encoded data removed]",
      "text/plain": [
       "<Figure size 640x480 with 1 Axes>"
      ]
     },
     "metadata": {},
     "output_type": "display_data"
    },
    {
     "name": "stdout",
     "output_type": "stream",
     "text": [
      ".  0.14\n",
      "a  0.15\n",
      "b  0.01\n",
      "c  0.02\n",
      "d  0.02\n",
      "e  0.09\n",
      "f  0.00\n",
      "g  0.01\n",
      "h  0.03\n",
      "i  0.08\n",
      "j  0.01\n",
      "k  0.02\n",
      "l  0.06\n",
      "m  0.03\n",
      "n  0.08\n",
      "o  0.03\n",
      "p  0.00\n",
      "q  0.00\n",
      "r  0.06\n",
      "s  0.04\n",
      "t  0.02\n",
      "u  0.01\n",
      "v  0.01\n",
      "w  0.00\n",
      "x  0.00\n",
      "y  0.04\n",
      "z  0.01\n"
     ]
    }
   ],
   "source": [
    "# Demonstration that we're just learning the probability dist of characters.\n",
    "\n",
    "\n",
    "\n",
    "# Sample all the letters in W_tr\n",
    "counts = torch.zeros(27, dtype=float)\n",
    "for w in words[:n1]:\n",
    "    for ch in w:\n",
    "        counts[stoi[ch]] += 1\n",
    "    counts[0] += 1\n",
    "probs = counts / counts.sum()\n",
    "indices = range(len(probs))  # Create indices for x-axis\n",
    "\n",
    "plt.bar(indices, probs)\n",
    "plt.show()\n",
    "\n",
    "for i, a in enumerate(probs):\n",
    "    print(f'{itos[i]} {a: .2f}')"
   ]
  },
  {
   "cell_type": "code",
   "execution_count": 201,
   "metadata": {},
   "outputs": [
    {
     "data": {
      "text/plain": [
       "tensor([[ 1.9114,  1.9752, -0.5934, -0.3013,  0.1652,  1.4694, -1.6438, -0.8736,\n",
       "          0.4786,  1.2984, -0.4898,  0.0689,  1.0919,  0.3183,  1.3639,  0.5090,\n",
       "         -1.5232, -2.4783,  0.9971,  0.5513,  0.1557, -0.4355, -0.6337, -1.5958,\n",
       "         -1.8505,  0.7274, -0.6625],\n",
       "        [ 1.9114,  1.9752, -0.5934, -0.3013,  0.1652,  1.4694, -1.6438, -0.8736,\n",
       "          0.4786,  1.2984, -0.4898,  0.0689,  1.0919,  0.3183,  1.3639,  0.5090,\n",
       "         -1.5232, -2.4783,  0.9971,  0.5513,  0.1557, -0.4355, -0.6337, -1.5958,\n",
       "         -1.8505,  0.7274, -0.6625],\n",
       "        [ 1.9114,  1.9752, -0.5934, -0.3013,  0.1652,  1.4694, -1.6438, -0.8736,\n",
       "          0.4786,  1.2984, -0.4898,  0.0689,  1.0919,  0.3183,  1.3639,  0.5090,\n",
       "         -1.5232, -2.4783,  0.9971,  0.5513,  0.1557, -0.4355, -0.6337, -1.5958,\n",
       "         -1.8505,  0.7274, -0.6625],\n",
       "        [ 1.9114,  1.9752, -0.5934, -0.3013,  0.1652,  1.4694, -1.6438, -0.8736,\n",
       "          0.4786,  1.2984, -0.4898,  0.0689,  1.0919,  0.3183,  1.3639,  0.5090,\n",
       "         -1.5232, -2.4783,  0.9971,  0.5513,  0.1557, -0.4355, -0.6337, -1.5958,\n",
       "         -1.8505,  0.7274, -0.6625],\n",
       "        [ 1.9114,  1.9752, -0.5934, -0.3013,  0.1652,  1.4694, -1.6438, -0.8736,\n",
       "          0.4786,  1.2984, -0.4898,  0.0689,  1.0919,  0.3183,  1.3639,  0.5090,\n",
       "         -1.5232, -2.4783,  0.9971,  0.5513,  0.1557, -0.4355, -0.6337, -1.5958,\n",
       "         -1.8505,  0.7274, -0.6625],\n",
       "        [ 1.9114,  1.9752, -0.5934, -0.3013,  0.1652,  1.4694, -1.6438, -0.8736,\n",
       "          0.4786,  1.2984, -0.4898,  0.0689,  1.0919,  0.3183,  1.3639,  0.5090,\n",
       "         -1.5232, -2.4783,  0.9971,  0.5513,  0.1557, -0.4355, -0.6337, -1.5958,\n",
       "         -1.8505,  0.7274, -0.6625],\n",
       "        [ 1.9114,  1.9752, -0.5934, -0.3013,  0.1652,  1.4694, -1.6438, -0.8736,\n",
       "          0.4786,  1.2984, -0.4898,  0.0689,  1.0919,  0.3183,  1.3639,  0.5090,\n",
       "         -1.5232, -2.4783,  0.9971,  0.5513,  0.1557, -0.4355, -0.6337, -1.5958,\n",
       "         -1.8505,  0.7274, -0.6625],\n",
       "        [ 1.9114,  1.9752, -0.5934, -0.3013,  0.1652,  1.4694, -1.6438, -0.8736,\n",
       "          0.4786,  1.2984, -0.4898,  0.0689,  1.0919,  0.3183,  1.3639,  0.5090,\n",
       "         -1.5232, -2.4783,  0.9971,  0.5513,  0.1557, -0.4355, -0.6337, -1.5958,\n",
       "         -1.8505,  0.7274, -0.6625],\n",
       "        [ 1.9114,  1.9752, -0.5934, -0.3013,  0.1652,  1.4694, -1.6438, -0.8736,\n",
       "          0.4786,  1.2984, -0.4898,  0.0689,  1.0919,  0.3183,  1.3639,  0.5090,\n",
       "         -1.5232, -2.4783,  0.9971,  0.5513,  0.1557, -0.4355, -0.6337, -1.5958,\n",
       "         -1.8505,  0.7274, -0.6625],\n",
       "        [ 1.9114,  1.9752, -0.5934, -0.3013,  0.1652,  1.4694, -1.6438, -0.8736,\n",
       "          0.4786,  1.2984, -0.4898,  0.0689,  1.0919,  0.3183,  1.3639,  0.5090,\n",
       "         -1.5232, -2.4783,  0.9971,  0.5513,  0.1557, -0.4355, -0.6337, -1.5958,\n",
       "         -1.8505,  0.7274, -0.6625],\n",
       "        [ 1.9114,  1.9752, -0.5934, -0.3013,  0.1652,  1.4694, -1.6438, -0.8736,\n",
       "          0.4786,  1.2984, -0.4898,  0.0689,  1.0919,  0.3183,  1.3639,  0.5090,\n",
       "         -1.5232, -2.4783,  0.9971,  0.5513,  0.1557, -0.4355, -0.6337, -1.5958,\n",
       "         -1.8505,  0.7274, -0.6625],\n",
       "        [ 1.9114,  1.9752, -0.5934, -0.3013,  0.1652,  1.4694, -1.6438, -0.8736,\n",
       "          0.4786,  1.2984, -0.4898,  0.0689,  1.0919,  0.3183,  1.3639,  0.5090,\n",
       "         -1.5232, -2.4783,  0.9971,  0.5513,  0.1557, -0.4355, -0.6337, -1.5958,\n",
       "         -1.8505,  0.7274, -0.6625],\n",
       "        [ 1.9114,  1.9752, -0.5934, -0.3013,  0.1652,  1.4694, -1.6438, -0.8736,\n",
       "          0.4786,  1.2984, -0.4898,  0.0689,  1.0919,  0.3183,  1.3639,  0.5090,\n",
       "         -1.5232, -2.4783,  0.9971,  0.5513,  0.1557, -0.4355, -0.6337, -1.5958,\n",
       "         -1.8505,  0.7274, -0.6625],\n",
       "        [ 1.9114,  1.9752, -0.5934, -0.3013,  0.1652,  1.4694, -1.6438, -0.8736,\n",
       "          0.4786,  1.2984, -0.4898,  0.0689,  1.0919,  0.3183,  1.3639,  0.5090,\n",
       "         -1.5232, -2.4783,  0.9971,  0.5513,  0.1557, -0.4355, -0.6337, -1.5958,\n",
       "         -1.8505,  0.7274, -0.6625],\n",
       "        [ 1.9114,  1.9752, -0.5934, -0.3013,  0.1652,  1.4694, -1.6438, -0.8736,\n",
       "          0.4786,  1.2984, -0.4898,  0.0689,  1.0919,  0.3183,  1.3639,  0.5090,\n",
       "         -1.5232, -2.4783,  0.9971,  0.5513,  0.1557, -0.4355, -0.6337, -1.5958,\n",
       "         -1.8505,  0.7274, -0.6625],\n",
       "        [ 1.9114,  1.9752, -0.5934, -0.3013,  0.1652,  1.4694, -1.6438, -0.8736,\n",
       "          0.4786,  1.2984, -0.4898,  0.0689,  1.0919,  0.3183,  1.3639,  0.5090,\n",
       "         -1.5232, -2.4783,  0.9971,  0.5513,  0.1557, -0.4355, -0.6337, -1.5958,\n",
       "         -1.8505,  0.7274, -0.6625],\n",
       "        [ 1.9114,  1.9752, -0.5934, -0.3013,  0.1652,  1.4694, -1.6438, -0.8736,\n",
       "          0.4786,  1.2984, -0.4898,  0.0689,  1.0919,  0.3183,  1.3639,  0.5090,\n",
       "         -1.5232, -2.4783,  0.9971,  0.5513,  0.1557, -0.4355, -0.6337, -1.5958,\n",
       "         -1.8505,  0.7274, -0.6625],\n",
       "        [ 1.9114,  1.9752, -0.5934, -0.3013,  0.1652,  1.4694, -1.6438, -0.8736,\n",
       "          0.4786,  1.2984, -0.4898,  0.0689,  1.0919,  0.3183,  1.3639,  0.5090,\n",
       "         -1.5232, -2.4783,  0.9971,  0.5513,  0.1557, -0.4355, -0.6337, -1.5958,\n",
       "         -1.8505,  0.7274, -0.6625],\n",
       "        [ 1.9114,  1.9752, -0.5934, -0.3013,  0.1652,  1.4694, -1.6438, -0.8736,\n",
       "          0.4786,  1.2984, -0.4898,  0.0689,  1.0919,  0.3183,  1.3639,  0.5090,\n",
       "         -1.5232, -2.4783,  0.9971,  0.5513,  0.1557, -0.4355, -0.6337, -1.5958,\n",
       "         -1.8505,  0.7274, -0.6625],\n",
       "        [ 1.9114,  1.9752, -0.5934, -0.3013,  0.1652,  1.4694, -1.6438, -0.8736,\n",
       "          0.4786,  1.2984, -0.4898,  0.0689,  1.0919,  0.3183,  1.3639,  0.5090,\n",
       "         -1.5232, -2.4783,  0.9971,  0.5513,  0.1557, -0.4355, -0.6337, -1.5958,\n",
       "         -1.8505,  0.7274, -0.6625],\n",
       "        [ 1.9114,  1.9752, -0.5934, -0.3013,  0.1652,  1.4694, -1.6438, -0.8736,\n",
       "          0.4786,  1.2984, -0.4898,  0.0689,  1.0919,  0.3183,  1.3639,  0.5090,\n",
       "         -1.5232, -2.4783,  0.9971,  0.5513,  0.1557, -0.4355, -0.6337, -1.5958,\n",
       "         -1.8505,  0.7274, -0.6625],\n",
       "        [ 1.9114,  1.9752, -0.5934, -0.3013,  0.1652,  1.4694, -1.6438, -0.8736,\n",
       "          0.4786,  1.2984, -0.4898,  0.0689,  1.0919,  0.3183,  1.3639,  0.5090,\n",
       "         -1.5232, -2.4783,  0.9971,  0.5513,  0.1557, -0.4355, -0.6337, -1.5958,\n",
       "         -1.8505,  0.7274, -0.6625],\n",
       "        [ 1.9114,  1.9752, -0.5934, -0.3013,  0.1652,  1.4694, -1.6438, -0.8736,\n",
       "          0.4786,  1.2984, -0.4898,  0.0689,  1.0919,  0.3183,  1.3639,  0.5090,\n",
       "         -1.5232, -2.4783,  0.9971,  0.5513,  0.1557, -0.4355, -0.6337, -1.5958,\n",
       "         -1.8505,  0.7274, -0.6625],\n",
       "        [ 1.9114,  1.9752, -0.5934, -0.3013,  0.1652,  1.4694, -1.6438, -0.8736,\n",
       "          0.4786,  1.2984, -0.4898,  0.0689,  1.0919,  0.3183,  1.3639,  0.5090,\n",
       "         -1.5232, -2.4783,  0.9971,  0.5513,  0.1557, -0.4355, -0.6337, -1.5958,\n",
       "         -1.8505,  0.7274, -0.6625],\n",
       "        [ 1.9114,  1.9752, -0.5934, -0.3013,  0.1652,  1.4694, -1.6438, -0.8736,\n",
       "          0.4786,  1.2984, -0.4898,  0.0689,  1.0919,  0.3183,  1.3639,  0.5090,\n",
       "         -1.5232, -2.4783,  0.9971,  0.5513,  0.1557, -0.4355, -0.6337, -1.5958,\n",
       "         -1.8505,  0.7274, -0.6625],\n",
       "        [ 1.9114,  1.9752, -0.5934, -0.3013,  0.1652,  1.4694, -1.6438, -0.8736,\n",
       "          0.4786,  1.2984, -0.4898,  0.0689,  1.0919,  0.3183,  1.3639,  0.5090,\n",
       "         -1.5232, -2.4783,  0.9971,  0.5513,  0.1557, -0.4355, -0.6337, -1.5958,\n",
       "         -1.8505,  0.7274, -0.6625],\n",
       "        [ 1.9114,  1.9752, -0.5934, -0.3013,  0.1652,  1.4694, -1.6438, -0.8736,\n",
       "          0.4786,  1.2984, -0.4898,  0.0689,  1.0919,  0.3183,  1.3639,  0.5090,\n",
       "         -1.5232, -2.4783,  0.9971,  0.5513,  0.1557, -0.4355, -0.6337, -1.5958,\n",
       "         -1.8505,  0.7274, -0.6625],\n",
       "        [ 1.9114,  1.9752, -0.5934, -0.3013,  0.1652,  1.4694, -1.6438, -0.8736,\n",
       "          0.4786,  1.2984, -0.4898,  0.0689,  1.0919,  0.3183,  1.3639,  0.5090,\n",
       "         -1.5232, -2.4783,  0.9971,  0.5513,  0.1557, -0.4355, -0.6337, -1.5958,\n",
       "         -1.8505,  0.7274, -0.6625],\n",
       "        [ 1.9114,  1.9752, -0.5934, -0.3013,  0.1652,  1.4694, -1.6438, -0.8736,\n",
       "          0.4786,  1.2984, -0.4898,  0.0689,  1.0919,  0.3183,  1.3639,  0.5090,\n",
       "         -1.5232, -2.4783,  0.9971,  0.5513,  0.1557, -0.4355, -0.6337, -1.5958,\n",
       "         -1.8505,  0.7274, -0.6625],\n",
       "        [ 1.9114,  1.9752, -0.5934, -0.3013,  0.1652,  1.4694, -1.6438, -0.8736,\n",
       "          0.4786,  1.2984, -0.4898,  0.0689,  1.0919,  0.3183,  1.3639,  0.5090,\n",
       "         -1.5232, -2.4783,  0.9971,  0.5513,  0.1557, -0.4355, -0.6337, -1.5958,\n",
       "         -1.8505,  0.7274, -0.6625],\n",
       "        [ 1.9114,  1.9752, -0.5934, -0.3013,  0.1652,  1.4694, -1.6438, -0.8736,\n",
       "          0.4786,  1.2984, -0.4898,  0.0689,  1.0919,  0.3183,  1.3639,  0.5090,\n",
       "         -1.5232, -2.4783,  0.9971,  0.5513,  0.1557, -0.4355, -0.6337, -1.5958,\n",
       "         -1.8505,  0.7274, -0.6625],\n",
       "        [ 1.9114,  1.9752, -0.5934, -0.3013,  0.1652,  1.4694, -1.6438, -0.8736,\n",
       "          0.4786,  1.2984, -0.4898,  0.0689,  1.0919,  0.3183,  1.3639,  0.5090,\n",
       "         -1.5232, -2.4783,  0.9971,  0.5513,  0.1557, -0.4355, -0.6337, -1.5958,\n",
       "         -1.8505,  0.7274, -0.6625]], grad_fn=<AddBackward0>)"
      ]
     },
     "execution_count": 201,
     "metadata": {},
     "output_type": "execute_result"
    }
   ],
   "source": [
    "layers[-1].out"
   ]
  },
  {
   "cell_type": "code",
   "execution_count": 149,
   "metadata": {},
   "outputs": [
    {
     "data": {
      "text/plain": [
       "[<matplotlib.lines.Line2D at 0x1474bb390>]"
      ]
     },
     "execution_count": 149,
     "metadata": {},
     "output_type": "execute_result"
    },
    {
     "data": {
      "image/png": "[encoded data removed]",
      "text/plain": [
       "<Figure size 640x480 with 1 Axes>"
      ]
     },
     "metadata": {},
     "output_type": "display_data"
    }
   ],
   "source": [
    "plt.plot(lossi)\n"
   ]
  },
  {
   "cell_type": "code",
   "execution_count": 242,
   "metadata": {},
   "outputs": [
    {
     "name": "stdout",
     "output_type": "stream",
     "text": [
      "layer 0 (    Linear): mean +0.00, std 0.00, saturated: 0.00%\n",
      "layer 2 (    Linear): mean +0.00, std 0.00, saturated: 0.00%\n",
      "layer 4 (    Linear): mean +0.00, std 0.00, saturated: 0.00%\n",
      "layer 6 (    Linear): mean +0.00, std 0.00, saturated: 0.00%\n",
      "layer 8 (    Linear): mean +0.00, std 0.00, saturated: 0.00%\n",
      "layer 10 (    Linear): mean +0.00, std 1.16, saturated: 44.44%\n"
     ]
    },
    {
     "data": {
      "text/plain": [
       "Text(0.5, 1.0, 'activation distribution')"
      ]
     },
     "execution_count": 242,
     "metadata": {},
     "output_type": "execute_result"
    },
    {
     "data": {
      "image/png": "[encoded data removed]",
      "text/plain": [
       "<Figure size 2000x400 with 1 Axes>"
      ]
     },
     "metadata": {},
     "output_type": "display_data"
    }
   ],
   "source": [
    "# visualize histograms\n",
    "plt.figure(figsize=(20, 4)) # width and height of the plot\n",
    "legends = []\n",
    "for i, layer in enumerate(layers): # note: exclude the output layer\n",
    "  if isinstance(layer, Linear):\n",
    "    t = layer.out\n",
    "    print('layer %d (%10s): mean %+.2f, std %.2f, saturated: %.2f%%' % (i, layer.__class__.__name__, t.mean(), t.std(), (t.abs() > 0.97).float().mean()*100))\n",
    "    hy, hx = torch.histogram(t, density=True)\n",
    "    plt.plot(hx[:-1].detach(), hy.detach())\n",
    "    legends.append(f'layer {i} ({layer.__class__.__name__})')\n",
    "plt.legend(legends);\n",
    "plt.title('activation distribution')"
   ]
  },
  {
   "cell_type": "code",
   "execution_count": 186,
   "metadata": {},
   "outputs": [
    {
     "name": "stdout",
     "output_type": "stream",
     "text": [
      "tensor([[0., 0., 0.,  ..., 0., 0., 0.],\n",
      "        [0., 0., 0.,  ..., 0., 0., 0.],\n",
      "        [0., 0., 0.,  ..., 0., 0., 0.],\n",
      "        ...,\n",
      "        [0., 0., 0.,  ..., 0., 0., 0.],\n",
      "        [0., 0., 0.,  ..., 0., 0., 0.],\n",
      "        [0., 0., 0.,  ..., 0., 0., 0.]], grad_fn=<AddBackward0>)\n",
      "grad: tensor([[0., 0., 0.,  ..., 0., 0., 0.],\n",
      "        [0., 0., 0.,  ..., 0., 0., 0.],\n",
      "        [0., 0., 0.,  ..., 0., 0., 0.],\n",
      "        ...,\n",
      "        [0., 0., 0.,  ..., 0., 0., 0.],\n",
      "        [0., 0., 0.,  ..., 0., 0., 0.],\n",
      "        [0., 0., 0.,  ..., 0., 0., 0.]])\n",
      "layer 0 (    Linear): mean +0.000000, std 0.000000e+00\n",
      "tensor([[0., 0., 0.,  ..., 0., 0., 0.],\n",
      "        [0., 0., 0.,  ..., 0., 0., 0.],\n",
      "        [0., 0., 0.,  ..., 0., 0., 0.],\n",
      "        ...,\n",
      "        [0., 0., 0.,  ..., 0., 0., 0.],\n",
      "        [0., 0., 0.,  ..., 0., 0., 0.],\n",
      "        [0., 0., 0.,  ..., 0., 0., 0.]], grad_fn=<AddBackward0>)\n",
      "grad: tensor([[0., 0., 0.,  ..., 0., 0., 0.],\n",
      "        [0., 0., 0.,  ..., 0., 0., 0.],\n",
      "        [0., 0., 0.,  ..., 0., 0., 0.],\n",
      "        ...,\n",
      "        [0., 0., 0.,  ..., 0., 0., 0.],\n",
      "        [0., 0., 0.,  ..., 0., 0., 0.],\n",
      "        [0., 0., 0.,  ..., 0., 0., 0.]])\n",
      "layer 2 (    Linear): mean +0.000000, std 0.000000e+00\n",
      "tensor([[0., 0., 0.,  ..., 0., 0., 0.],\n",
      "        [0., 0., 0.,  ..., 0., 0., 0.],\n",
      "        [0., 0., 0.,  ..., 0., 0., 0.],\n",
      "        ...,\n",
      "        [0., 0., 0.,  ..., 0., 0., 0.],\n",
      "        [0., 0., 0.,  ..., 0., 0., 0.],\n",
      "        [0., 0., 0.,  ..., 0., 0., 0.]], grad_fn=<AddBackward0>)\n",
      "grad: tensor([[0., 0., 0.,  ..., 0., 0., 0.],\n",
      "        [0., 0., 0.,  ..., 0., 0., 0.],\n",
      "        [0., 0., 0.,  ..., 0., 0., 0.],\n",
      "        ...,\n",
      "        [0., 0., 0.,  ..., 0., 0., 0.],\n",
      "        [0., 0., 0.,  ..., 0., 0., 0.],\n",
      "        [0., 0., 0.,  ..., 0., 0., 0.]])\n",
      "layer 4 (    Linear): mean +0.000000, std 0.000000e+00\n",
      "tensor([[0., 0., 0.,  ..., 0., 0., 0.],\n",
      "        [0., 0., 0.,  ..., 0., 0., 0.],\n",
      "        [0., 0., 0.,  ..., 0., 0., 0.],\n",
      "        ...,\n",
      "        [0., 0., 0.,  ..., 0., 0., 0.],\n",
      "        [0., 0., 0.,  ..., 0., 0., 0.],\n",
      "        [0., 0., 0.,  ..., 0., 0., 0.]], grad_fn=<AddBackward0>)\n",
      "grad: tensor([[0., 0., 0.,  ..., 0., 0., 0.],\n",
      "        [0., 0., 0.,  ..., 0., 0., 0.],\n",
      "        [0., 0., 0.,  ..., 0., 0., 0.],\n",
      "        ...,\n",
      "        [0., 0., 0.,  ..., 0., 0., 0.],\n",
      "        [0., 0., 0.,  ..., 0., 0., 0.],\n",
      "        [0., 0., 0.,  ..., 0., 0., 0.]])\n",
      "layer 6 (    Linear): mean +0.000000, std 0.000000e+00\n",
      "tensor([[0., 0., 0.,  ..., 0., 0., 0.],\n",
      "        [0., 0., 0.,  ..., 0., 0., 0.],\n",
      "        [0., 0., 0.,  ..., 0., 0., 0.],\n",
      "        ...,\n",
      "        [0., 0., 0.,  ..., 0., 0., 0.],\n",
      "        [0., 0., 0.,  ..., 0., 0., 0.],\n",
      "        [0., 0., 0.,  ..., 0., 0., 0.]], grad_fn=<AddBackward0>)\n",
      "grad: tensor([[0., 0., 0.,  ..., 0., 0., 0.],\n",
      "        [0., 0., 0.,  ..., 0., 0., 0.],\n",
      "        [0., 0., 0.,  ..., 0., 0., 0.],\n",
      "        ...,\n",
      "        [0., 0., 0.,  ..., 0., 0., 0.],\n",
      "        [0., 0., 0.,  ..., 0., 0., 0.],\n",
      "        [0., 0., 0.,  ..., 0., 0., 0.]])\n",
      "layer 8 (    Linear): mean +0.000000, std 0.000000e+00\n",
      "tensor([[ 1.8936,  1.9488, -0.6190, -0.3546,  0.1498,  1.4226, -1.5725, -0.9445,\n",
      "          0.4617,  1.2982, -0.5569,  0.0065,  1.0536,  0.3043,  1.2997,  0.4953,\n",
      "         -1.4825, -2.0909,  0.9763,  0.5234,  0.1498, -0.4345, -0.6662, -1.5267,\n",
      "         -1.7186,  0.6908, -0.7076],\n",
      "        [ 1.8936,  1.9488, -0.6190, -0.3546,  0.1498,  1.4226, -1.5725, -0.9445,\n",
      "          0.4617,  1.2982, -0.5569,  0.0065,  1.0536,  0.3043,  1.2997,  0.4953,\n",
      "         -1.4825, -2.0909,  0.9763,  0.5234,  0.1498, -0.4345, -0.6662, -1.5267,\n",
      "         -1.7186,  0.6908, -0.7076],\n",
      "        [ 1.8936,  1.9488, -0.6190, -0.3546,  0.1498,  1.4226, -1.5725, -0.9445,\n",
      "          0.4617,  1.2982, -0.5569,  0.0065,  1.0536,  0.3043,  1.2997,  0.4953,\n",
      "         -1.4825, -2.0909,  0.9763,  0.5234,  0.1498, -0.4345, -0.6662, -1.5267,\n",
      "         -1.7186,  0.6908, -0.7076],\n",
      "        [ 1.8936,  1.9488, -0.6190, -0.3546,  0.1498,  1.4226, -1.5725, -0.9445,\n",
      "          0.4617,  1.2982, -0.5569,  0.0065,  1.0536,  0.3043,  1.2997,  0.4953,\n",
      "         -1.4825, -2.0909,  0.9763,  0.5234,  0.1498, -0.4345, -0.6662, -1.5267,\n",
      "         -1.7186,  0.6908, -0.7076],\n",
      "        [ 1.8936,  1.9488, -0.6190, -0.3546,  0.1498,  1.4226, -1.5725, -0.9445,\n",
      "          0.4617,  1.2982, -0.5569,  0.0065,  1.0536,  0.3043,  1.2997,  0.4953,\n",
      "         -1.4825, -2.0909,  0.9763,  0.5234,  0.1498, -0.4345, -0.6662, -1.5267,\n",
      "         -1.7186,  0.6908, -0.7076],\n",
      "        [ 1.8936,  1.9488, -0.6190, -0.3546,  0.1498,  1.4226, -1.5725, -0.9445,\n",
      "          0.4617,  1.2982, -0.5569,  0.0065,  1.0536,  0.3043,  1.2997,  0.4953,\n",
      "         -1.4825, -2.0909,  0.9763,  0.5234,  0.1498, -0.4345, -0.6662, -1.5267,\n",
      "         -1.7186,  0.6908, -0.7076],\n",
      "        [ 1.8936,  1.9488, -0.6190, -0.3546,  0.1498,  1.4226, -1.5725, -0.9445,\n",
      "          0.4617,  1.2982, -0.5569,  0.0065,  1.0536,  0.3043,  1.2997,  0.4953,\n",
      "         -1.4825, -2.0909,  0.9763,  0.5234,  0.1498, -0.4345, -0.6662, -1.5267,\n",
      "         -1.7186,  0.6908, -0.7076],\n",
      "        [ 1.8936,  1.9488, -0.6190, -0.3546,  0.1498,  1.4226, -1.5725, -0.9445,\n",
      "          0.4617,  1.2982, -0.5569,  0.0065,  1.0536,  0.3043,  1.2997,  0.4953,\n",
      "         -1.4825, -2.0909,  0.9763,  0.5234,  0.1498, -0.4345, -0.6662, -1.5267,\n",
      "         -1.7186,  0.6908, -0.7076],\n",
      "        [ 1.8936,  1.9488, -0.6190, -0.3546,  0.1498,  1.4226, -1.5725, -0.9445,\n",
      "          0.4617,  1.2982, -0.5569,  0.0065,  1.0536,  0.3043,  1.2997,  0.4953,\n",
      "         -1.4825, -2.0909,  0.9763,  0.5234,  0.1498, -0.4345, -0.6662, -1.5267,\n",
      "         -1.7186,  0.6908, -0.7076],\n",
      "        [ 1.8936,  1.9488, -0.6190, -0.3546,  0.1498,  1.4226, -1.5725, -0.9445,\n",
      "          0.4617,  1.2982, -0.5569,  0.0065,  1.0536,  0.3043,  1.2997,  0.4953,\n",
      "         -1.4825, -2.0909,  0.9763,  0.5234,  0.1498, -0.4345, -0.6662, -1.5267,\n",
      "         -1.7186,  0.6908, -0.7076],\n",
      "        [ 1.8936,  1.9488, -0.6190, -0.3546,  0.1498,  1.4226, -1.5725, -0.9445,\n",
      "          0.4617,  1.2982, -0.5569,  0.0065,  1.0536,  0.3043,  1.2997,  0.4953,\n",
      "         -1.4825, -2.0909,  0.9763,  0.5234,  0.1498, -0.4345, -0.6662, -1.5267,\n",
      "         -1.7186,  0.6908, -0.7076],\n",
      "        [ 1.8936,  1.9488, -0.6190, -0.3546,  0.1498,  1.4226, -1.5725, -0.9445,\n",
      "          0.4617,  1.2982, -0.5569,  0.0065,  1.0536,  0.3043,  1.2997,  0.4953,\n",
      "         -1.4825, -2.0909,  0.9763,  0.5234,  0.1498, -0.4345, -0.6662, -1.5267,\n",
      "         -1.7186,  0.6908, -0.7076],\n",
      "        [ 1.8936,  1.9488, -0.6190, -0.3546,  0.1498,  1.4226, -1.5725, -0.9445,\n",
      "          0.4617,  1.2982, -0.5569,  0.0065,  1.0536,  0.3043,  1.2997,  0.4953,\n",
      "         -1.4825, -2.0909,  0.9763,  0.5234,  0.1498, -0.4345, -0.6662, -1.5267,\n",
      "         -1.7186,  0.6908, -0.7076],\n",
      "        [ 1.8936,  1.9488, -0.6190, -0.3546,  0.1498,  1.4226, -1.5725, -0.9445,\n",
      "          0.4617,  1.2982, -0.5569,  0.0065,  1.0536,  0.3043,  1.2997,  0.4953,\n",
      "         -1.4825, -2.0909,  0.9763,  0.5234,  0.1498, -0.4345, -0.6662, -1.5267,\n",
      "         -1.7186,  0.6908, -0.7076],\n",
      "        [ 1.8936,  1.9488, -0.6190, -0.3546,  0.1498,  1.4226, -1.5725, -0.9445,\n",
      "          0.4617,  1.2982, -0.5569,  0.0065,  1.0536,  0.3043,  1.2997,  0.4953,\n",
      "         -1.4825, -2.0909,  0.9763,  0.5234,  0.1498, -0.4345, -0.6662, -1.5267,\n",
      "         -1.7186,  0.6908, -0.7076],\n",
      "        [ 1.8936,  1.9488, -0.6190, -0.3546,  0.1498,  1.4226, -1.5725, -0.9445,\n",
      "          0.4617,  1.2982, -0.5569,  0.0065,  1.0536,  0.3043,  1.2997,  0.4953,\n",
      "         -1.4825, -2.0909,  0.9763,  0.5234,  0.1498, -0.4345, -0.6662, -1.5267,\n",
      "         -1.7186,  0.6908, -0.7076],\n",
      "        [ 1.8936,  1.9488, -0.6190, -0.3546,  0.1498,  1.4226, -1.5725, -0.9445,\n",
      "          0.4617,  1.2982, -0.5569,  0.0065,  1.0536,  0.3043,  1.2997,  0.4953,\n",
      "         -1.4825, -2.0909,  0.9763,  0.5234,  0.1498, -0.4345, -0.6662, -1.5267,\n",
      "         -1.7186,  0.6908, -0.7076],\n",
      "        [ 1.8936,  1.9488, -0.6190, -0.3546,  0.1498,  1.4226, -1.5725, -0.9445,\n",
      "          0.4617,  1.2982, -0.5569,  0.0065,  1.0536,  0.3043,  1.2997,  0.4953,\n",
      "         -1.4825, -2.0909,  0.9763,  0.5234,  0.1498, -0.4345, -0.6662, -1.5267,\n",
      "         -1.7186,  0.6908, -0.7076],\n",
      "        [ 1.8936,  1.9488, -0.6190, -0.3546,  0.1498,  1.4226, -1.5725, -0.9445,\n",
      "          0.4617,  1.2982, -0.5569,  0.0065,  1.0536,  0.3043,  1.2997,  0.4953,\n",
      "         -1.4825, -2.0909,  0.9763,  0.5234,  0.1498, -0.4345, -0.6662, -1.5267,\n",
      "         -1.7186,  0.6908, -0.7076],\n",
      "        [ 1.8936,  1.9488, -0.6190, -0.3546,  0.1498,  1.4226, -1.5725, -0.9445,\n",
      "          0.4617,  1.2982, -0.5569,  0.0065,  1.0536,  0.3043,  1.2997,  0.4953,\n",
      "         -1.4825, -2.0909,  0.9763,  0.5234,  0.1498, -0.4345, -0.6662, -1.5267,\n",
      "         -1.7186,  0.6908, -0.7076],\n",
      "        [ 1.8936,  1.9488, -0.6190, -0.3546,  0.1498,  1.4226, -1.5725, -0.9445,\n",
      "          0.4617,  1.2982, -0.5569,  0.0065,  1.0536,  0.3043,  1.2997,  0.4953,\n",
      "         -1.4825, -2.0909,  0.9763,  0.5234,  0.1498, -0.4345, -0.6662, -1.5267,\n",
      "         -1.7186,  0.6908, -0.7076],\n",
      "        [ 1.8936,  1.9488, -0.6190, -0.3546,  0.1498,  1.4226, -1.5725, -0.9445,\n",
      "          0.4617,  1.2982, -0.5569,  0.0065,  1.0536,  0.3043,  1.2997,  0.4953,\n",
      "         -1.4825, -2.0909,  0.9763,  0.5234,  0.1498, -0.4345, -0.6662, -1.5267,\n",
      "         -1.7186,  0.6908, -0.7076],\n",
      "        [ 1.8936,  1.9488, -0.6190, -0.3546,  0.1498,  1.4226, -1.5725, -0.9445,\n",
      "          0.4617,  1.2982, -0.5569,  0.0065,  1.0536,  0.3043,  1.2997,  0.4953,\n",
      "         -1.4825, -2.0909,  0.9763,  0.5234,  0.1498, -0.4345, -0.6662, -1.5267,\n",
      "         -1.7186,  0.6908, -0.7076],\n",
      "        [ 1.8936,  1.9488, -0.6190, -0.3546,  0.1498,  1.4226, -1.5725, -0.9445,\n",
      "          0.4617,  1.2982, -0.5569,  0.0065,  1.0536,  0.3043,  1.2997,  0.4953,\n",
      "         -1.4825, -2.0909,  0.9763,  0.5234,  0.1498, -0.4345, -0.6662, -1.5267,\n",
      "         -1.7186,  0.6908, -0.7076],\n",
      "        [ 1.8936,  1.9488, -0.6190, -0.3546,  0.1498,  1.4226, -1.5725, -0.9445,\n",
      "          0.4617,  1.2982, -0.5569,  0.0065,  1.0536,  0.3043,  1.2997,  0.4953,\n",
      "         -1.4825, -2.0909,  0.9763,  0.5234,  0.1498, -0.4345, -0.6662, -1.5267,\n",
      "         -1.7186,  0.6908, -0.7076],\n",
      "        [ 1.8936,  1.9488, -0.6190, -0.3546,  0.1498,  1.4226, -1.5725, -0.9445,\n",
      "          0.4617,  1.2982, -0.5569,  0.0065,  1.0536,  0.3043,  1.2997,  0.4953,\n",
      "         -1.4825, -2.0909,  0.9763,  0.5234,  0.1498, -0.4345, -0.6662, -1.5267,\n",
      "         -1.7186,  0.6908, -0.7076],\n",
      "        [ 1.8936,  1.9488, -0.6190, -0.3546,  0.1498,  1.4226, -1.5725, -0.9445,\n",
      "          0.4617,  1.2982, -0.5569,  0.0065,  1.0536,  0.3043,  1.2997,  0.4953,\n",
      "         -1.4825, -2.0909,  0.9763,  0.5234,  0.1498, -0.4345, -0.6662, -1.5267,\n",
      "         -1.7186,  0.6908, -0.7076],\n",
      "        [ 1.8936,  1.9488, -0.6190, -0.3546,  0.1498,  1.4226, -1.5725, -0.9445,\n",
      "          0.4617,  1.2982, -0.5569,  0.0065,  1.0536,  0.3043,  1.2997,  0.4953,\n",
      "         -1.4825, -2.0909,  0.9763,  0.5234,  0.1498, -0.4345, -0.6662, -1.5267,\n",
      "         -1.7186,  0.6908, -0.7076],\n",
      "        [ 1.8936,  1.9488, -0.6190, -0.3546,  0.1498,  1.4226, -1.5725, -0.9445,\n",
      "          0.4617,  1.2982, -0.5569,  0.0065,  1.0536,  0.3043,  1.2997,  0.4953,\n",
      "         -1.4825, -2.0909,  0.9763,  0.5234,  0.1498, -0.4345, -0.6662, -1.5267,\n",
      "         -1.7186,  0.6908, -0.7076],\n",
      "        [ 1.8936,  1.9488, -0.6190, -0.3546,  0.1498,  1.4226, -1.5725, -0.9445,\n",
      "          0.4617,  1.2982, -0.5569,  0.0065,  1.0536,  0.3043,  1.2997,  0.4953,\n",
      "         -1.4825, -2.0909,  0.9763,  0.5234,  0.1498, -0.4345, -0.6662, -1.5267,\n",
      "         -1.7186,  0.6908, -0.7076],\n",
      "        [ 1.8936,  1.9488, -0.6190, -0.3546,  0.1498,  1.4226, -1.5725, -0.9445,\n",
      "          0.4617,  1.2982, -0.5569,  0.0065,  1.0536,  0.3043,  1.2997,  0.4953,\n",
      "         -1.4825, -2.0909,  0.9763,  0.5234,  0.1498, -0.4345, -0.6662, -1.5267,\n",
      "         -1.7186,  0.6908, -0.7076],\n",
      "        [ 1.8936,  1.9488, -0.6190, -0.3546,  0.1498,  1.4226, -1.5725, -0.9445,\n",
      "          0.4617,  1.2982, -0.5569,  0.0065,  1.0536,  0.3043,  1.2997,  0.4953,\n",
      "         -1.4825, -2.0909,  0.9763,  0.5234,  0.1498, -0.4345, -0.6662, -1.5267,\n",
      "         -1.7186,  0.6908, -0.7076]], grad_fn=<AddBackward0>)\n",
      "grad: tensor([[ 4.4103e-03,  4.6607e-03,  3.5750e-04, -3.0784e-02,  7.7116e-04,\n",
      "          2.7536e-03,  1.3778e-04,  2.5818e-04,  1.0534e-03,  2.4316e-03,\n",
      "          3.8040e-04,  6.6820e-04,  1.9040e-03,  9.0001e-04,  2.4352e-03,\n",
      "          1.0894e-03,  1.5075e-04,  8.2042e-05,  1.7624e-03,  1.1205e-03,\n",
      "          7.7121e-04,  4.2993e-04,  3.4101e-04,  1.4423e-04,  1.1905e-04,\n",
      "          1.3246e-03,  3.2717e-04],\n",
      "        [ 4.4103e-03,  4.6607e-03,  3.5750e-04,  4.6570e-04,  7.7116e-04,\n",
      "          2.7536e-03,  1.3778e-04,  2.5818e-04,  1.0534e-03,  2.4316e-03,\n",
      "          3.8040e-04,  6.6820e-04, -2.9346e-02,  9.0001e-04,  2.4352e-03,\n",
      "          1.0894e-03,  1.5075e-04,  8.2042e-05,  1.7624e-03,  1.1205e-03,\n",
      "          7.7121e-04,  4.2993e-04,  3.4101e-04,  1.4423e-04,  1.1905e-04,\n",
      "          1.3246e-03,  3.2717e-04],\n",
      "        [ 4.4103e-03,  4.6607e-03,  3.5750e-04,  4.6570e-04,  7.7116e-04,\n",
      "          2.7536e-03,  1.3778e-04,  2.5818e-04,  1.0534e-03,  2.4316e-03,\n",
      "          3.8040e-04, -3.0582e-02,  1.9040e-03,  9.0001e-04,  2.4352e-03,\n",
      "          1.0894e-03,  1.5075e-04,  8.2042e-05,  1.7624e-03,  1.1205e-03,\n",
      "          7.7121e-04,  4.2993e-04,  3.4101e-04,  1.4423e-04,  1.1905e-04,\n",
      "          1.3246e-03,  3.2717e-04],\n",
      "        [ 4.4103e-03,  4.6607e-03,  3.5750e-04,  4.6570e-04,  7.7116e-04,\n",
      "          2.7536e-03,  1.3778e-04,  2.5818e-04,  1.0534e-03,  2.4316e-03,\n",
      "          3.8040e-04,  6.6820e-04,  1.9040e-03,  9.0001e-04,  2.4352e-03,\n",
      "          1.0894e-03,  1.5075e-04,  8.2042e-05, -2.9488e-02,  1.1205e-03,\n",
      "          7.7121e-04,  4.2993e-04,  3.4101e-04,  1.4423e-04,  1.1905e-04,\n",
      "          1.3246e-03,  3.2717e-04],\n",
      "        [ 4.4103e-03,  4.6607e-03,  3.5750e-04,  4.6570e-04,  7.7116e-04,\n",
      "         -2.8496e-02,  1.3778e-04,  2.5818e-04,  1.0534e-03,  2.4316e-03,\n",
      "          3.8040e-04,  6.6820e-04,  1.9040e-03,  9.0001e-04,  2.4352e-03,\n",
      "          1.0894e-03,  1.5075e-04,  8.2042e-05,  1.7624e-03,  1.1205e-03,\n",
      "          7.7121e-04,  4.2993e-04,  3.4101e-04,  1.4423e-04,  1.1905e-04,\n",
      "          1.3246e-03,  3.2717e-04],\n",
      "        [-2.6840e-02,  4.6607e-03,  3.5750e-04,  4.6570e-04,  7.7116e-04,\n",
      "          2.7536e-03,  1.3778e-04,  2.5818e-04,  1.0534e-03,  2.4316e-03,\n",
      "          3.8040e-04,  6.6820e-04,  1.9040e-03,  9.0001e-04,  2.4352e-03,\n",
      "          1.0894e-03,  1.5075e-04,  8.2042e-05,  1.7624e-03,  1.1205e-03,\n",
      "          7.7121e-04,  4.2993e-04,  3.4101e-04,  1.4423e-04,  1.1905e-04,\n",
      "          1.3246e-03,  3.2717e-04],\n",
      "        [ 4.4103e-03,  4.6607e-03,  3.5750e-04,  4.6570e-04,  7.7116e-04,\n",
      "         -2.8496e-02,  1.3778e-04,  2.5818e-04,  1.0534e-03,  2.4316e-03,\n",
      "          3.8040e-04,  6.6820e-04,  1.9040e-03,  9.0001e-04,  2.4352e-03,\n",
      "          1.0894e-03,  1.5075e-04,  8.2042e-05,  1.7624e-03,  1.1205e-03,\n",
      "          7.7121e-04,  4.2993e-04,  3.4101e-04,  1.4423e-04,  1.1905e-04,\n",
      "          1.3246e-03,  3.2717e-04],\n",
      "        [-2.6840e-02,  4.6607e-03,  3.5750e-04,  4.6570e-04,  7.7116e-04,\n",
      "          2.7536e-03,  1.3778e-04,  2.5818e-04,  1.0534e-03,  2.4316e-03,\n",
      "          3.8040e-04,  6.6820e-04,  1.9040e-03,  9.0001e-04,  2.4352e-03,\n",
      "          1.0894e-03,  1.5075e-04,  8.2042e-05,  1.7624e-03,  1.1205e-03,\n",
      "          7.7121e-04,  4.2993e-04,  3.4101e-04,  1.4423e-04,  1.1905e-04,\n",
      "          1.3246e-03,  3.2717e-04],\n",
      "        [ 4.4103e-03, -2.6589e-02,  3.5750e-04,  4.6570e-04,  7.7116e-04,\n",
      "          2.7536e-03,  1.3778e-04,  2.5818e-04,  1.0534e-03,  2.4316e-03,\n",
      "          3.8040e-04,  6.6820e-04,  1.9040e-03,  9.0001e-04,  2.4352e-03,\n",
      "          1.0894e-03,  1.5075e-04,  8.2042e-05,  1.7624e-03,  1.1205e-03,\n",
      "          7.7121e-04,  4.2993e-04,  3.4101e-04,  1.4423e-04,  1.1905e-04,\n",
      "          1.3246e-03,  3.2717e-04],\n",
      "        [ 4.4103e-03,  4.6607e-03,  3.5750e-04,  4.6570e-04,  7.7116e-04,\n",
      "          2.7536e-03,  1.3778e-04,  2.5818e-04, -3.0197e-02,  2.4316e-03,\n",
      "          3.8040e-04,  6.6820e-04,  1.9040e-03,  9.0001e-04,  2.4352e-03,\n",
      "          1.0894e-03,  1.5075e-04,  8.2042e-05,  1.7624e-03,  1.1205e-03,\n",
      "          7.7121e-04,  4.2993e-04,  3.4101e-04,  1.4423e-04,  1.1905e-04,\n",
      "          1.3246e-03,  3.2717e-04],\n",
      "        [-2.6840e-02,  4.6607e-03,  3.5750e-04,  4.6570e-04,  7.7116e-04,\n",
      "          2.7536e-03,  1.3778e-04,  2.5818e-04,  1.0534e-03,  2.4316e-03,\n",
      "          3.8040e-04,  6.6820e-04,  1.9040e-03,  9.0001e-04,  2.4352e-03,\n",
      "          1.0894e-03,  1.5075e-04,  8.2042e-05,  1.7624e-03,  1.1205e-03,\n",
      "          7.7121e-04,  4.2993e-04,  3.4101e-04,  1.4423e-04,  1.1905e-04,\n",
      "          1.3246e-03,  3.2717e-04],\n",
      "        [ 4.4103e-03,  4.6607e-03,  3.5750e-04,  4.6570e-04,  7.7116e-04,\n",
      "          2.7536e-03,  1.3778e-04,  2.5818e-04,  1.0534e-03, -2.8818e-02,\n",
      "          3.8040e-04,  6.6820e-04,  1.9040e-03,  9.0001e-04,  2.4352e-03,\n",
      "          1.0894e-03,  1.5075e-04,  8.2042e-05,  1.7624e-03,  1.1205e-03,\n",
      "          7.7121e-04,  4.2993e-04,  3.4101e-04,  1.4423e-04,  1.1905e-04,\n",
      "          1.3246e-03,  3.2717e-04],\n",
      "        [ 4.4103e-03,  4.6607e-03,  3.5750e-04,  4.6570e-04,  7.7116e-04,\n",
      "          2.7536e-03,  1.3778e-04,  2.5818e-04,  1.0534e-03,  2.4316e-03,\n",
      "          3.8040e-04,  6.6820e-04, -2.9346e-02,  9.0001e-04,  2.4352e-03,\n",
      "          1.0894e-03,  1.5075e-04,  8.2042e-05,  1.7624e-03,  1.1205e-03,\n",
      "          7.7121e-04,  4.2993e-04,  3.4101e-04,  1.4423e-04,  1.1905e-04,\n",
      "          1.3246e-03,  3.2717e-04],\n",
      "        [ 4.4103e-03,  4.6607e-03,  3.5750e-04,  4.6570e-04,  7.7116e-04,\n",
      "          2.7536e-03,  1.3778e-04,  2.5818e-04,  1.0534e-03,  2.4316e-03,\n",
      "          3.8040e-04,  6.6820e-04,  1.9040e-03, -3.0350e-02,  2.4352e-03,\n",
      "          1.0894e-03,  1.5075e-04,  8.2042e-05,  1.7624e-03,  1.1205e-03,\n",
      "          7.7121e-04,  4.2993e-04,  3.4101e-04,  1.4423e-04,  1.1905e-04,\n",
      "          1.3246e-03,  3.2717e-04],\n",
      "        [-2.6840e-02,  4.6607e-03,  3.5750e-04,  4.6570e-04,  7.7116e-04,\n",
      "          2.7536e-03,  1.3778e-04,  2.5818e-04,  1.0534e-03,  2.4316e-03,\n",
      "          3.8040e-04,  6.6820e-04,  1.9040e-03,  9.0001e-04,  2.4352e-03,\n",
      "          1.0894e-03,  1.5075e-04,  8.2042e-05,  1.7624e-03,  1.1205e-03,\n",
      "          7.7121e-04,  4.2993e-04,  3.4101e-04,  1.4423e-04,  1.1905e-04,\n",
      "          1.3246e-03,  3.2717e-04],\n",
      "        [ 4.4103e-03,  4.6607e-03,  3.5750e-04,  4.6570e-04,  7.7116e-04,\n",
      "         -2.8496e-02,  1.3778e-04,  2.5818e-04,  1.0534e-03,  2.4316e-03,\n",
      "          3.8040e-04,  6.6820e-04,  1.9040e-03,  9.0001e-04,  2.4352e-03,\n",
      "          1.0894e-03,  1.5075e-04,  8.2042e-05,  1.7624e-03,  1.1205e-03,\n",
      "          7.7121e-04,  4.2993e-04,  3.4101e-04,  1.4423e-04,  1.1905e-04,\n",
      "          1.3246e-03,  3.2717e-04],\n",
      "        [ 4.4103e-03,  4.6607e-03,  3.5750e-04,  4.6570e-04,  7.7116e-04,\n",
      "          2.7536e-03,  1.3778e-04,  2.5818e-04,  1.0534e-03,  2.4316e-03,\n",
      "          3.8040e-04,  6.6820e-04,  1.9040e-03,  9.0001e-04, -2.8815e-02,\n",
      "          1.0894e-03,  1.5075e-04,  8.2042e-05,  1.7624e-03,  1.1205e-03,\n",
      "          7.7121e-04,  4.2993e-04,  3.4101e-04,  1.4423e-04,  1.1905e-04,\n",
      "          1.3246e-03,  3.2717e-04],\n",
      "        [ 4.4103e-03,  4.6607e-03,  3.5750e-04,  4.6570e-04,  7.7116e-04,\n",
      "          2.7536e-03,  1.3778e-04,  2.5818e-04,  1.0534e-03,  2.4316e-03,\n",
      "          3.8040e-04,  6.6820e-04,  1.9040e-03,  9.0001e-04,  2.4352e-03,\n",
      "          1.0894e-03,  1.5075e-04,  8.2042e-05,  1.7624e-03,  1.1205e-03,\n",
      "          7.7121e-04,  4.2993e-04,  3.4101e-04,  1.4423e-04,  1.1905e-04,\n",
      "         -2.9925e-02,  3.2717e-04],\n",
      "        [ 4.4103e-03, -2.6589e-02,  3.5750e-04,  4.6570e-04,  7.7116e-04,\n",
      "          2.7536e-03,  1.3778e-04,  2.5818e-04,  1.0534e-03,  2.4316e-03,\n",
      "          3.8040e-04,  6.6820e-04,  1.9040e-03,  9.0001e-04,  2.4352e-03,\n",
      "          1.0894e-03,  1.5075e-04,  8.2042e-05,  1.7624e-03,  1.1205e-03,\n",
      "          7.7121e-04,  4.2993e-04,  3.4101e-04,  1.4423e-04,  1.1905e-04,\n",
      "          1.3246e-03,  3.2717e-04],\n",
      "        [ 4.4103e-03,  4.6607e-03,  3.5750e-04,  4.6570e-04,  7.7116e-04,\n",
      "         -2.8496e-02,  1.3778e-04,  2.5818e-04,  1.0534e-03,  2.4316e-03,\n",
      "          3.8040e-04,  6.6820e-04,  1.9040e-03,  9.0001e-04,  2.4352e-03,\n",
      "          1.0894e-03,  1.5075e-04,  8.2042e-05,  1.7624e-03,  1.1205e-03,\n",
      "          7.7121e-04,  4.2993e-04,  3.4101e-04,  1.4423e-04,  1.1905e-04,\n",
      "          1.3246e-03,  3.2717e-04],\n",
      "        [ 4.4103e-03,  4.6607e-03,  3.5750e-04,  4.6570e-04,  7.7116e-04,\n",
      "          2.7536e-03,  1.3778e-04,  2.5818e-04,  1.0534e-03,  2.4316e-03,\n",
      "          3.8040e-04,  6.6820e-04,  1.9040e-03,  9.0001e-04, -2.8815e-02,\n",
      "          1.0894e-03,  1.5075e-04,  8.2042e-05,  1.7624e-03,  1.1205e-03,\n",
      "          7.7121e-04,  4.2993e-04,  3.4101e-04,  1.4423e-04,  1.1905e-04,\n",
      "          1.3246e-03,  3.2717e-04],\n",
      "        [ 4.4103e-03, -2.6589e-02,  3.5750e-04,  4.6570e-04,  7.7116e-04,\n",
      "          2.7536e-03,  1.3778e-04,  2.5818e-04,  1.0534e-03,  2.4316e-03,\n",
      "          3.8040e-04,  6.6820e-04,  1.9040e-03,  9.0001e-04,  2.4352e-03,\n",
      "          1.0894e-03,  1.5075e-04,  8.2042e-05,  1.7624e-03,  1.1205e-03,\n",
      "          7.7121e-04,  4.2993e-04,  3.4101e-04,  1.4423e-04,  1.1905e-04,\n",
      "          1.3246e-03,  3.2717e-04],\n",
      "        [ 4.4103e-03,  4.6607e-03,  3.5750e-04,  4.6570e-04,  7.7116e-04,\n",
      "          2.7536e-03,  1.3778e-04,  2.5818e-04,  1.0534e-03,  2.4316e-03,\n",
      "          3.8040e-04,  6.6820e-04,  1.9040e-03,  9.0001e-04,  2.4352e-03,\n",
      "          1.0894e-03,  1.5075e-04,  8.2042e-05, -2.9488e-02,  1.1205e-03,\n",
      "          7.7121e-04,  4.2993e-04,  3.4101e-04,  1.4423e-04,  1.1905e-04,\n",
      "          1.3246e-03,  3.2717e-04],\n",
      "        [ 4.4103e-03,  4.6607e-03,  3.5750e-04,  4.6570e-04,  7.7116e-04,\n",
      "         -2.8496e-02,  1.3778e-04,  2.5818e-04,  1.0534e-03,  2.4316e-03,\n",
      "          3.8040e-04,  6.6820e-04,  1.9040e-03,  9.0001e-04,  2.4352e-03,\n",
      "          1.0894e-03,  1.5075e-04,  8.2042e-05,  1.7624e-03,  1.1205e-03,\n",
      "          7.7121e-04,  4.2993e-04,  3.4101e-04,  1.4423e-04,  1.1905e-04,\n",
      "          1.3246e-03,  3.2717e-04],\n",
      "        [ 4.4103e-03,  4.6607e-03,  3.5750e-04,  4.6570e-04,  7.7116e-04,\n",
      "          2.7536e-03,  1.3778e-04,  2.5818e-04,  1.0534e-03,  2.4316e-03,\n",
      "          3.8040e-04,  6.6820e-04,  1.9040e-03,  9.0001e-04,  2.4352e-03,\n",
      "          1.0894e-03,  1.5075e-04,  8.2042e-05,  1.7624e-03,  1.1205e-03,\n",
      "          7.7121e-04,  4.2993e-04,  3.4101e-04,  1.4423e-04,  1.1905e-04,\n",
      "          1.3246e-03, -3.0923e-02],\n",
      "        [ 4.4103e-03,  4.6607e-03,  3.5750e-04,  4.6570e-04,  7.7116e-04,\n",
      "         -2.8496e-02,  1.3778e-04,  2.5818e-04,  1.0534e-03,  2.4316e-03,\n",
      "          3.8040e-04,  6.6820e-04,  1.9040e-03,  9.0001e-04,  2.4352e-03,\n",
      "          1.0894e-03,  1.5075e-04,  8.2042e-05,  1.7624e-03,  1.1205e-03,\n",
      "          7.7121e-04,  4.2993e-04,  3.4101e-04,  1.4423e-04,  1.1905e-04,\n",
      "          1.3246e-03,  3.2717e-04],\n",
      "        [ 4.4103e-03,  4.6607e-03,  3.5750e-04,  4.6570e-04,  7.7116e-04,\n",
      "          2.7536e-03,  1.3778e-04,  2.5818e-04,  1.0534e-03,  2.4316e-03,\n",
      "          3.8040e-04,  6.6820e-04,  1.9040e-03,  9.0001e-04, -2.8815e-02,\n",
      "          1.0894e-03,  1.5075e-04,  8.2042e-05,  1.7624e-03,  1.1205e-03,\n",
      "          7.7121e-04,  4.2993e-04,  3.4101e-04,  1.4423e-04,  1.1905e-04,\n",
      "          1.3246e-03,  3.2717e-04],\n",
      "        [ 4.4103e-03,  4.6607e-03,  3.5750e-04,  4.6570e-04,  7.7116e-04,\n",
      "          2.7536e-03,  1.3778e-04,  2.5818e-04,  1.0534e-03,  2.4316e-03,\n",
      "          3.8040e-04,  6.6820e-04,  1.9040e-03,  9.0001e-04,  2.4352e-03,\n",
      "          1.0894e-03,  1.5075e-04,  8.2042e-05,  1.7624e-03, -3.0129e-02,\n",
      "          7.7121e-04,  4.2993e-04,  3.4101e-04,  1.4423e-04,  1.1905e-04,\n",
      "          1.3246e-03,  3.2717e-04],\n",
      "        [ 4.4103e-03, -2.6589e-02,  3.5750e-04,  4.6570e-04,  7.7116e-04,\n",
      "          2.7536e-03,  1.3778e-04,  2.5818e-04,  1.0534e-03,  2.4316e-03,\n",
      "          3.8040e-04,  6.6820e-04,  1.9040e-03,  9.0001e-04,  2.4352e-03,\n",
      "          1.0894e-03,  1.5075e-04,  8.2042e-05,  1.7624e-03,  1.1205e-03,\n",
      "          7.7121e-04,  4.2993e-04,  3.4101e-04,  1.4423e-04,  1.1905e-04,\n",
      "          1.3246e-03,  3.2717e-04],\n",
      "        [ 4.4103e-03,  4.6607e-03,  3.5750e-04,  4.6570e-04,  7.7116e-04,\n",
      "          2.7536e-03,  1.3778e-04,  2.5818e-04,  1.0534e-03,  2.4316e-03,\n",
      "          3.8040e-04,  6.6820e-04,  1.9040e-03,  9.0001e-04,  2.4352e-03,\n",
      "          1.0894e-03,  1.5075e-04,  8.2042e-05,  1.7624e-03,  1.1205e-03,\n",
      "          7.7121e-04,  4.2993e-04,  3.4101e-04,  1.4423e-04,  1.1905e-04,\n",
      "          1.3246e-03, -3.0923e-02],\n",
      "        [ 4.4103e-03,  4.6607e-03,  3.5750e-04,  4.6570e-04,  7.7116e-04,\n",
      "          2.7536e-03,  1.3778e-04,  2.5818e-04,  1.0534e-03,  2.4316e-03,\n",
      "          3.8040e-04,  6.6820e-04,  1.9040e-03,  9.0001e-04,  2.4352e-03,\n",
      "         -3.0161e-02,  1.5075e-04,  8.2042e-05,  1.7624e-03,  1.1205e-03,\n",
      "          7.7121e-04,  4.2993e-04,  3.4101e-04,  1.4423e-04,  1.1905e-04,\n",
      "          1.3246e-03,  3.2717e-04],\n",
      "        [-2.6840e-02,  4.6607e-03,  3.5750e-04,  4.6570e-04,  7.7116e-04,\n",
      "          2.7536e-03,  1.3778e-04,  2.5818e-04,  1.0534e-03,  2.4316e-03,\n",
      "          3.8040e-04,  6.6820e-04,  1.9040e-03,  9.0001e-04,  2.4352e-03,\n",
      "          1.0894e-03,  1.5075e-04,  8.2042e-05,  1.7624e-03,  1.1205e-03,\n",
      "          7.7121e-04,  4.2993e-04,  3.4101e-04,  1.4423e-04,  1.1905e-04,\n",
      "          1.3246e-03,  3.2717e-04]])\n",
      "layer 10 (    Linear): mean -0.000000, std 5.755597e-03\n"
     ]
    },
    {
     "data": {
      "text/plain": [
       "Text(0.5, 1.0, 'gradient distribution')"
      ]
     },
     "execution_count": 186,
     "metadata": {},
     "output_type": "execute_result"
    },
    {
     "data": {
      "image/png": "[encoded data removed]",
      "text/plain": [
       "<Figure size 2000x400 with 1 Axes>"
      ]
     },
     "metadata": {},
     "output_type": "display_data"
    }
   ],
   "source": [
    "# visualize histograms\n",
    "plt.figure(figsize=(20, 4)) # width and height of the plot\n",
    "legends = []\n",
    "for i, layer in enumerate(layers): # note: exclude the output layer\n",
    "  if isinstance(layer, Linear):\n",
    "    print(layer.out)\n",
    "    t = layer.out.grad\n",
    "    print(f'grad: {t}')\n",
    "    print('layer %d (%10s): mean %+f, std %e' % (i, layer.__class__.__name__,  t.mean(), t.std()))\n",
    "    hy, hx = torch.histogram(t, density=True)\n",
    "    plt.plot(hx[:-1].detach(), hy.detach())\n",
    "    legends.append(f'layer {i} ({layer.__class__.__name__})')\n",
    "plt.legend(legends);\n",
    "plt.title('gradient distribution')"
   ]
  },
  {
   "cell_type": "code",
   "execution_count": 187,
   "metadata": {},
   "outputs": [
    {
     "data": {
      "image/png": "[encoded data removed]",
      "text/plain": [
       "<Figure size 2000x400 with 1 Axes>"
      ]
     },
     "metadata": {},
     "output_type": "display_data"
    }
   ],
   "source": [
    "plt.figure(figsize=(20, 4))\n",
    "legends = []\n",
    "for i,p in enumerate(parameters):\n",
    "  if p.ndim == 2:\n",
    "    plt.plot([ud[j][i] for j in range(len(ud))])\n",
    "    legends.append('param %d' % i)\n",
    "plt.plot([0, len(ud)], [-3, -3], 'k') # these ratios should be ~1e-3, indicate on plot\n",
    "plt.legend(legends);"
   ]
  },
  {
   "cell_type": "code",
   "execution_count": 188,
   "metadata": {},
   "outputs": [
    {
     "name": "stdout",
     "output_type": "stream",
     "text": [
      "train 2.823330879211426\n",
      "val 2.821828603744507\n"
     ]
    }
   ],
   "source": [
    "@torch.no_grad() # this decorator disables gradient tracking\n",
    "def split_loss(split):\n",
    "  x,y = {\n",
    "    'train': (Xtr, Ytr),\n",
    "    'val': (Xdev, Ydev),\n",
    "    'test': (Xte, Yte),\n",
    "  }[split]\n",
    "  emb = C[x] # (N, block_size, n_embd)\n",
    "  x = emb.view(emb.shape[0], -1) # concat into (N, block_size * n_embd)\n",
    "  for layer in layers:\n",
    "    x = layer(x)\n",
    "  loss = F.cross_entropy(x, y)\n",
    "  print(split, loss.item())\n",
    "\n",
    "# put layers into eval mode\n",
    "for layer in layers:\n",
    "  layer.training = False\n",
    "split_loss('train')\n",
    "split_loss('val')"
   ]
  },
  {
   "cell_type": "code",
   "execution_count": 165,
   "metadata": {},
   "outputs": [
    {
     "name": "stdout",
     "output_type": "stream",
     "text": [
      "tensor([ 1.5674, -0.4713,  0.9849, -1.0725, -0.9648,  0.1156,  0.1351,  0.6169,\n",
      "        -1.1641, -1.3257, -1.0188, -0.5653, -0.5614, -0.3111,  0.4683,  0.5557,\n",
      "        -2.1259,  1.7039,  1.2815, -0.2129,  1.2648, -0.2478,  1.3283, -1.0527,\n",
      "         0.5107, -1.2801, -0.9465], grad_fn=<SelectBackward0>)\n"
     ]
    },
    {
     "data": {
      "image/png": "[encoded data removed]",
      "text/plain": [
       "<Figure size 640x480 with 1 Axes>"
      ]
     },
     "metadata": {},
     "output_type": "display_data"
    }
   ],
   "source": [
    "for p in parameters:\n",
    "    print(p[:,0])\n",
    "    # hx, hy = torch.histogram(p)\n",
    "    # print(hx, hy)\n",
    "    plt.hist(p[:, 0].detach())\n",
    "    break"
   ]
  },
  {
   "cell_type": "code",
   "execution_count": 189,
   "metadata": {},
   "outputs": [
    {
     "name": "stdout",
     "output_type": "stream",
     "text": [
      "tensor([[ 1.5674, -0.2373, -0.0274, -1.1008,  0.2859, -0.0296, -1.5471,  0.6049,\n",
      "          0.0791,  0.9046,  1.5674, -0.2373, -0.0274, -1.1008,  0.2859, -0.0296,\n",
      "         -1.5471,  0.6049,  0.0791,  0.9046,  1.5674, -0.2373, -0.0274, -1.1008,\n",
      "          0.2859, -0.0296, -1.5471,  0.6049,  0.0791,  0.9046]])\n",
      "Linear layer: <__main__.Linear object at 0x2c8e3dd10>  tensor([[0., 0., 0., 0., 0., 0., 0., 0., 0., 0., 0., 0., 0., 0., 0., 0., 0., 0., 0., 0., 0., 0., 0., 0.,\n",
      "         0., 0., 0., 0., 0., 0., 0., 0., 0., 0., 0., 0., 0., 0., 0., 0., 0., 0., 0., 0., 0., 0., 0., 0.,\n",
      "         0., 0., 0., 0., 0., 0., 0., 0., 0., 0., 0., 0., 0., 0., 0., 0., 0., 0., 0., 0., 0., 0., 0., 0.,\n",
      "         0., 0., 0., 0., 0., 0., 0., 0., 0., 0., 0., 0., 0., 0., 0., 0., 0., 0., 0., 0., 0., 0., 0., 0.,\n",
      "         0., 0., 0., 0.]])\n",
      "Tanh layer: <__main__.Tanh object at 0x2c8e3f710>  tensor([[0., 0., 0., 0., 0., 0., 0., 0., 0., 0., 0., 0., 0., 0., 0., 0., 0., 0., 0., 0., 0., 0., 0., 0.,\n",
      "         0., 0., 0., 0., 0., 0., 0., 0., 0., 0., 0., 0., 0., 0., 0., 0., 0., 0., 0., 0., 0., 0., 0., 0.,\n",
      "         0., 0., 0., 0., 0., 0., 0., 0., 0., 0., 0., 0., 0., 0., 0., 0., 0., 0., 0., 0., 0., 0., 0., 0.,\n",
      "         0., 0., 0., 0., 0., 0., 0., 0., 0., 0., 0., 0., 0., 0., 0., 0., 0., 0., 0., 0., 0., 0., 0., 0.,\n",
      "         0., 0., 0., 0.]])\n",
      "Linear layer: <__main__.Linear object at 0x2c8e3f810>  tensor([[0., 0., 0., 0., 0., 0., 0., 0., 0., 0., 0., 0., 0., 0., 0., 0., 0., 0., 0., 0., 0., 0., 0., 0.,\n",
      "         0., 0., 0., 0., 0., 0., 0., 0., 0., 0., 0., 0., 0., 0., 0., 0., 0., 0., 0., 0., 0., 0., 0., 0.,\n",
      "         0., 0., 0., 0., 0., 0., 0., 0., 0., 0., 0., 0., 0., 0., 0., 0., 0., 0., 0., 0., 0., 0., 0., 0.,\n",
      "         0., 0., 0., 0., 0., 0., 0., 0., 0., 0., 0., 0., 0., 0., 0., 0., 0., 0., 0., 0., 0., 0., 0., 0.,\n",
      "         0., 0., 0., 0.]])\n",
      "Tanh layer: <__main__.Tanh object at 0x14740abd0>  tensor([[0., 0., 0., 0., 0., 0., 0., 0., 0., 0., 0., 0., 0., 0., 0., 0., 0., 0., 0., 0., 0., 0., 0., 0.,\n",
      "         0., 0., 0., 0., 0., 0., 0., 0., 0., 0., 0., 0., 0., 0., 0., 0., 0., 0., 0., 0., 0., 0., 0., 0.,\n",
      "         0., 0., 0., 0., 0., 0., 0., 0., 0., 0., 0., 0., 0., 0., 0., 0., 0., 0., 0., 0., 0., 0., 0., 0.,\n",
      "         0., 0., 0., 0., 0., 0., 0., 0., 0., 0., 0., 0., 0., 0., 0., 0., 0., 0., 0., 0., 0., 0., 0., 0.,\n",
      "         0., 0., 0., 0.]])\n",
      "Linear layer: <__main__.Linear object at 0x2ceae8650>  tensor([[0., 0., 0., 0., 0., 0., 0., 0., 0., 0., 0., 0., 0., 0., 0., 0., 0., 0., 0., 0., 0., 0., 0., 0.,\n",
      "         0., 0., 0., 0., 0., 0., 0., 0., 0., 0., 0., 0., 0., 0., 0., 0., 0., 0., 0., 0., 0., 0., 0., 0.,\n",
      "         0., 0., 0., 0., 0., 0., 0., 0., 0., 0., 0., 0., 0., 0., 0., 0., 0., 0., 0., 0., 0., 0., 0., 0.,\n",
      "         0., 0., 0., 0., 0., 0., 0., 0., 0., 0., 0., 0., 0., 0., 0., 0., 0., 0., 0., 0., 0., 0., 0., 0.,\n",
      "         0., 0., 0., 0.]])\n",
      "Tanh layer: <__main__.Tanh object at 0x1474bae90>  tensor([[0., 0., 0., 0., 0., 0., 0., 0., 0., 0., 0., 0., 0., 0., 0., 0., 0., 0., 0., 0., 0., 0., 0., 0.,\n",
      "         0., 0., 0., 0., 0., 0., 0., 0., 0., 0., 0., 0., 0., 0., 0., 0., 0., 0., 0., 0., 0., 0., 0., 0.,\n",
      "         0., 0., 0., 0., 0., 0., 0., 0., 0., 0., 0., 0., 0., 0., 0., 0., 0., 0., 0., 0., 0., 0., 0., 0.,\n",
      "         0., 0., 0., 0., 0., 0., 0., 0., 0., 0., 0., 0., 0., 0., 0., 0., 0., 0., 0., 0., 0., 0., 0., 0.,\n",
      "         0., 0., 0., 0.]])\n",
      "Linear layer: <__main__.Linear object at 0x2c8e3ecd0>  tensor([[0., 0., 0., 0., 0., 0., 0., 0., 0., 0., 0., 0., 0., 0., 0., 0., 0., 0., 0., 0., 0., 0., 0., 0.,\n",
      "         0., 0., 0., 0., 0., 0., 0., 0., 0., 0., 0., 0., 0., 0., 0., 0., 0., 0., 0., 0., 0., 0., 0., 0.,\n",
      "         0., 0., 0., 0., 0., 0., 0., 0., 0., 0., 0., 0., 0., 0., 0., 0., 0., 0., 0., 0., 0., 0., 0., 0.,\n",
      "         0., 0., 0., 0., 0., 0., 0., 0., 0., 0., 0., 0., 0., 0., 0., 0., 0., 0., 0., 0., 0., 0., 0., 0.,\n",
      "         0., 0., 0., 0.]])\n",
      "Tanh layer: <__main__.Tanh object at 0x2c8e3d910>  tensor([[0., 0., 0., 0., 0., 0., 0., 0., 0., 0., 0., 0., 0., 0., 0., 0., 0., 0., 0., 0., 0., 0., 0., 0.,\n",
      "         0., 0., 0., 0., 0., 0., 0., 0., 0., 0., 0., 0., 0., 0., 0., 0., 0., 0., 0., 0., 0., 0., 0., 0.,\n",
      "         0., 0., 0., 0., 0., 0., 0., 0., 0., 0., 0., 0., 0., 0., 0., 0., 0., 0., 0., 0., 0., 0., 0., 0.,\n",
      "         0., 0., 0., 0., 0., 0., 0., 0., 0., 0., 0., 0., 0., 0., 0., 0., 0., 0., 0., 0., 0., 0., 0., 0.,\n",
      "         0., 0., 0., 0.]])\n",
      "Linear layer: <__main__.Linear object at 0x2c8e3ff10>  tensor([[0., 0., 0., 0., 0., 0., 0., 0., 0., 0., 0., 0., 0., 0., 0., 0., 0., 0., 0., 0., 0., 0., 0., 0.,\n",
      "         0., 0., 0., 0., 0., 0., 0., 0., 0., 0., 0., 0., 0., 0., 0., 0., 0., 0., 0., 0., 0., 0., 0., 0.,\n",
      "         0., 0., 0., 0., 0., 0., 0., 0., 0., 0., 0., 0., 0., 0., 0., 0., 0., 0., 0., 0., 0., 0., 0., 0.,\n",
      "         0., 0., 0., 0., 0., 0., 0., 0., 0., 0., 0., 0., 0., 0., 0., 0., 0., 0., 0., 0., 0., 0., 0., 0.,\n",
      "         0., 0., 0., 0.]])\n",
      "Tanh layer: <__main__.Tanh object at 0x2c8e3dcd0>  tensor([[0., 0., 0., 0., 0., 0., 0., 0., 0., 0., 0., 0., 0., 0., 0., 0., 0., 0., 0., 0., 0., 0., 0., 0.,\n",
      "         0., 0., 0., 0., 0., 0., 0., 0., 0., 0., 0., 0., 0., 0., 0., 0., 0., 0., 0., 0., 0., 0., 0., 0.,\n",
      "         0., 0., 0., 0., 0., 0., 0., 0., 0., 0., 0., 0., 0., 0., 0., 0., 0., 0., 0., 0., 0., 0., 0., 0.,\n",
      "         0., 0., 0., 0., 0., 0., 0., 0., 0., 0., 0., 0., 0., 0., 0., 0., 0., 0., 0., 0., 0., 0., 0., 0.,\n",
      "         0., 0., 0., 0.]])\n",
      "Linear layer: <__main__.Linear object at 0x2c8e3c990>  tensor([[ 1.8937,  1.9486, -0.6191, -0.3544,  0.1495,  1.4236, -1.5725, -0.9445,\n",
      "          0.4616,  1.2977, -0.5570,  0.0066,  1.0536,  0.3043,  1.2998,  0.4953,\n",
      "         -1.4825, -2.0909,  0.9764,  0.5234,  0.1496, -0.4346, -0.6663, -1.5267,\n",
      "         -1.7186,  0.6906, -0.7071]])\n",
      "n\n"
     ]
    }
   ],
   "source": [
    "# sample from the model\n",
    "g = torch.Generator().manual_seed(2147483647 + 10)\n",
    "\n",
    "for _ in range(1):\n",
    "    \n",
    "    out = []\n",
    "    context = [0] * block_size # initialize with all ...\n",
    "    while True:\n",
    "      with torch.no_grad():\n",
    "        # forward pass the neural net\n",
    "        emb = C[torch.tensor([context])] # (1,block_size,n_embd)\n",
    "        x = emb.view(emb.shape[0], -1) # concatenate the vectors\n",
    "        print(f'{x}')\n",
    "        for layer in layers:\n",
    "          x = layer(x)\n",
    "          print(f'{layer.__class__.__name__} layer: {layer}  {x}')\n",
    "        logits = x\n",
    "        probs = F.softmax(logits, dim=1)\n",
    "        # print(probs)\n",
    "        # sample from the distribution\n",
    "        ix = torch.multinomial(probs, num_samples=1, generator=g).item()\n",
    "        # shift the context window and track the samples\n",
    "        context = context[1:] + [ix]\n",
    "        out.append(ix)\n",
    "        # if we sample the special '.' token, break\n",
    "        if ix == 0:\n",
    "          break\n",
    "        break\n",
    "    \n",
    "    print(''.join(itos[i] for i in out)) # decode and print the generated word\n",
    "    break"
   ]
  },
  {
   "cell_type": "markdown",
   "metadata": {},
   "source": [
    "# properly initialized\n",
    "\n",
    "train 2.0674145221710205\n",
    "val 2.1056838035583496"
   ]
  },
  {
   "cell_type": "code",
   "execution_count": 156,
   "metadata": {},
   "outputs": [
    {
     "data": {
      "text/plain": [
       "torch.Size([1, 100])"
      ]
     },
     "execution_count": 156,
     "metadata": {},
     "output_type": "execute_result"
    }
   ],
   "source": [
    "[layer for layer in layers if isinstance(layer, Tanh)][0].out.shape"
   ]
  },
  {
   "cell_type": "code",
   "execution_count": 157,
   "metadata": {},
   "outputs": [
    {
     "data": {
      "image/png": "[encoded data removed]",
      "text/plain": [
       "<Figure size 640x480 with 1 Axes>"
      ]
     },
     "metadata": {},
     "output_type": "display_data"
    }
   ],
   "source": [
    "# Inspecting the weights\n",
    "plt.imshow([layer for layer in layers if isinstance(layer, Tanh)][-1].out.abs() > 0.99, cmap='gray', interpolation='nearest');"
   ]
  },
  {
   "cell_type": "code",
   "execution_count": 158,
   "metadata": {},
   "outputs": [
    {
     "ename": "NameError",
     "evalue": "name 'h' is not defined",
     "output_type": "error",
     "traceback": [
      "\u001b[0;31m---------------------------------------------------------------------------\u001b[0m",
      "\u001b[0;31mNameError\u001b[0m                                 Traceback (most recent call last)",
      "\u001b[1;32m/Users/slee2/karpathy-course/4.ipynb Cell 20\u001b[0m line \u001b[0;36m1\n\u001b[0;32m----> <a href='vscode-notebook-cell:/Users/slee2/karpathy-course/4.ipynb#X15sZmlsZQ%3D%3D?line=0'>1</a>\u001b[0m plt\u001b[39m.\u001b[39mhist(h\u001b[39m.\u001b[39mview(\u001b[39m-\u001b[39m\u001b[39m1\u001b[39m)\u001b[39m.\u001b[39mtolist(), \u001b[39m50\u001b[39m )\n",
      "\u001b[0;31mNameError\u001b[0m: name 'h' is not defined"
     ]
    }
   ],
   "source": [
    "plt.hist(h.view(-1).tolist(), 50 );"
   ]
  },
  {
   "cell_type": "markdown",
   "metadata": {},
   "source": [
    "- E02: BatchNorm, unlike other normalization layers like LayerNorm/GroupNorm etc. has the big advantage that after training, the batchnorm gamma/beta can be \"folded into\" the weights of the preceeding Linear layers, effectively erasing the need to forward it at test time. Set up a small 3-layer MLP with batchnorms, train the network, then \"fold\" the batchnorm gamma/beta into the preceeding Linear layer's W,b by creating a new W2, b2 and erasing the batch norm. Verify that this gives the same forward pass during inference. i.e. we see that the batchnorm is there just for stabilizing the training, and can be thrown out after training is done! pretty cool.\n",
    "\n",
    "\n",
    "\n",
    "This should be pretty obvious as we're simply scaling and shifting the the activations, which are linear transformations."
   ]
  },
  {
   "cell_type": "code",
   "execution_count": 260,
   "metadata": {},
   "outputs": [
    {
     "name": "stdout",
     "output_type": "stream",
     "text": [
      "16424\n"
     ]
    }
   ],
   "source": [
    "\n",
    "n_embd = 10 # the dimensionality of the character embedding vectors\n",
    "n_hidden = 100 # the number of neurons in the hidden layer of the MLP\n",
    "g = torch.Generator().manual_seed(2147483647) # for reproducibility\n",
    "\n",
    "C = torch.randn((vocab_size, n_embd),            generator=g)\n",
    "layers = [\n",
    "  Linear(n_embd * block_size, n_hidden, bias=False), BatchNorm1d(n_hidden), Tanh(),\n",
    "  Linear(           n_hidden, n_hidden, bias=False), BatchNorm1d(n_hidden), Tanh(),\n",
    "  Linear(           n_hidden, vocab_size, bias=False), BatchNorm1d(vocab_size),\n",
    "]\n",
    "\n",
    "parameters = [C] + [p for layer in layers for p in layer.parameters()]\n",
    "print(sum(p.nelement() for p in parameters)) # number of parameters in total\n",
    "for p in parameters:\n",
    "  p.requires_grad = True"
   ]
  },
  {
   "cell_type": "code",
   "execution_count": 261,
   "metadata": {},
   "outputs": [
    {
     "name": "stdout",
     "output_type": "stream",
     "text": [
      "      0/ 200000: 3.8874\n",
      "  10000/ 200000: 2.7023\n",
      "  20000/ 200000: 2.3797\n"
     ]
    }
   ],
   "source": [
    "# same optimization as last time\n",
    "max_steps = 200000\n",
    "batch_size = 32\n",
    "lossi = []\n",
    "ud = []\n",
    "\n",
    "for i in range(max_steps):\n",
    "  # minibatch construct\n",
    "  ix = torch.randint(0, Xtr.shape[0], (batch_size,), generator=g)\n",
    "  Xb, Yb = Xtr[ix], Ytr[ix] # batch X,Y\n",
    "  \n",
    "  # forward pass\n",
    "  emb = C[Xb] # embed the characters into vectors\n",
    "  x = emb.view(emb.shape[0], -1) # concatenate the vectors\n",
    "  for layer in layers:\n",
    "    x = layer(x)\n",
    "  loss = F.cross_entropy(x, Yb) # loss function\n",
    "  \n",
    "  # backward pass\n",
    "  for layer in layers:\n",
    "    layer.out.retain_grad() # AFTER_DEBUG: would take out retain_graph\n",
    "  for p in parameters:\n",
    "    p.grad = None\n",
    "  loss.backward()\n",
    "  \n",
    "  # update\n",
    "  lr = 0.01 if i < 150000 else 0.01 # step learning rate decay\n",
    "  for p in parameters:\n",
    "    p.data += -lr * p.grad\n",
    "\n",
    "  # track stats\n",
    "  if i % 10000 == 0: # print every once in a while\n",
    "    print(f'{i:7d}/{max_steps:7d}: {loss.item():.4f}')\n",
    "  lossi.append(loss.log10().item())\n",
    "  with torch.no_grad():\n",
    "    ud.append([((lr*p.grad).std() / p.data.std()).log10().item() for p in parameters])\n",
    "\n",
    "  # if i >= 20000:\n",
    "  #   break # AFTER_DEBUG: would take out obviously to run full optimization"
   ]
  },
  {
   "cell_type": "code",
   "execution_count": 301,
   "metadata": {},
   "outputs": [
    {
     "name": "stdout",
     "output_type": "stream",
     "text": [
      "train 2.2414677143096924\n",
      "train 2.2414677143096924\n",
      "val 2.250905990600586\n",
      "val 2.250905990600586\n"
     ]
    }
   ],
   "source": [
    "class LinearClone(Linear):\n",
    "  def __init__(self, weight, bias):\n",
    "    self.weight = weight\n",
    "    self.bias = bias\n",
    "\n",
    "\n",
    "@torch.no_grad() # this decorator disables gradient tracking\n",
    "def split_loss(split):\n",
    "  x,y = {\n",
    "    'train': (Xtr, Ytr),\n",
    "    'val': (Xdev, Ydev),\n",
    "    'test': (Xte, Yte),\n",
    "  }[split]\n",
    "  emb = C[x] # (N, block_size, n_embd)\n",
    "  x = emb.view(emb.shape[0], -1) # concat into (N, block_size * n_embd)\n",
    "  for layer in layers:\n",
    "    x = layer(x)\n",
    "  loss = F.cross_entropy(x, y)\n",
    "  print(split, loss.item())\n",
    "\n",
    "@torch.no_grad() # this decorator disables gradient tracking\n",
    "def split_loss_frankenstein(split):\n",
    "  x,y = {\n",
    "    'train': (Xtr, Ytr),\n",
    "    'val': (Xdev, Ydev),\n",
    "    'test': (Xte, Yte),\n",
    "  }[split]\n",
    "  emb = C[x] # (N, block_size, n_embd)\n",
    "  x = emb.view(emb.shape[0], -1) # concat into (N, block_size * n_embd)\n",
    "  mod_layers = []\n",
    "  for i, layer in enumerate(layers):\n",
    "    if isinstance(layer, BatchNorm1d):\n",
    "        continue\n",
    "    elif isinstance(layer, Linear):\n",
    "        next_layer = layers[i+1]\n",
    "        if not isinstance(next_layer, BatchNorm1d):\n",
    "          raise Exception(\"expected batch norm to be next layer\")\n",
    "        w = layer.weight.clone()\n",
    "        # print(w.shape)\n",
    "        # print(next_layer.gamma.shape, next_layer.beta.shape)\n",
    "\n",
    "        w *= next_layer.gamma.clone()\n",
    "        w /= torch.sqrt(next_layer.running_var.clone() + 1e-5).view(-1)\n",
    "\n",
    "\n",
    "        b = torch.zeros_like(next_layer.beta)\n",
    "        b -= next_layer.running_mean.clone().view(-1)\n",
    "        b /= torch.sqrt(next_layer.running_var.clone() + 1e-5).view(-1)\n",
    "        b *= next_layer.gamma.clone()\n",
    "        b += next_layer.beta.clone()\n",
    "        # print(next_layer.beta.shape)\n",
    "\n",
    "        l = LinearClone(w, b)\n",
    "        mod_layers.append(l)\n",
    "    else:\n",
    "        mod_layers.append(layer)\n",
    "\n",
    "  for layer in mod_layers:\n",
    "    x = layer(x)\n",
    "  loss = F.cross_entropy(x, y)\n",
    "  print(split, loss.item())\n",
    "\n",
    "# put layers into eval mode\n",
    "for layer in layers:\n",
    "  layer.training = False\n",
    "split_loss_frankenstein('train')\n",
    "split_loss('train')\n",
    "split_loss_frankenstein('val')\n",
    "split_loss('val')"
   ]
  },
  {
   "cell_type": "markdown",
   "metadata": {},
   "source": [
    "train 2.2414677143096924\n",
    "train 2.2414677143096924\n",
    "val 2.250905990600586\n",
    "val 2.250905990600586\n",
    "\n",
    "swagggg"
   ]
  },
  {
   "cell_type": "code",
   "execution_count": null,
   "metadata": {},
   "outputs": [],
   "source": []
  },
  {
   "cell_type": "code",
   "execution_count": 279,
   "metadata": {},
   "outputs": [
    {
     "name": "stdout",
     "output_type": "stream",
     "text": [
      "tensor([[ 0,  1,  2,  3,  4,  5,  6,  7,  8,  9],\n",
      "        [10, 11, 12, 13, 14, 15, 16, 17, 18, 19],\n",
      "        [20, 21, 22, 23, 24, 25, 26, 27, 28, 29]])\n"
     ]
    },
    {
     "data": {
      "text/plain": [
       "torch.Size([3, 10])"
      ]
     },
     "execution_count": 279,
     "metadata": {},
     "output_type": "execute_result"
    }
   ],
   "source": [
    "# broadcasting test\n",
    "foo = torch.arange(0, 30).view(-1, 10)\n",
    "print(foo)\n",
    "foo.shape"
   ]
  },
  {
   "cell_type": "code",
   "execution_count": 282,
   "metadata": {},
   "outputs": [
    {
     "name": "stdout",
     "output_type": "stream",
     "text": [
      "tensor([0, 1, 2, 3, 4, 5, 6, 7, 8, 9])\n"
     ]
    },
    {
     "data": {
      "text/plain": [
       "torch.Size([10])"
      ]
     },
     "execution_count": 282,
     "metadata": {},
     "output_type": "execute_result"
    }
   ],
   "source": [
    "bar = torch.arange(0, 10)\n",
    "print(bar)\n",
    "bar.shape"
   ]
  },
  {
   "cell_type": "code",
   "execution_count": 284,
   "metadata": {},
   "outputs": [
    {
     "data": {
      "text/plain": [
       "tensor([[ 0,  2,  4,  6,  8, 10, 12, 14, 16, 18],\n",
       "        [10, 12, 14, 16, 18, 20, 22, 24, 26, 28],\n",
       "        [20, 22, 24, 26, 28, 30, 32, 34, 36, 38]])"
      ]
     },
     "execution_count": 284,
     "metadata": {},
     "output_type": "execute_result"
    }
   ],
   "source": [
    "# 3, 10\n",
    "#    10\n",
    "\n",
    "# fill in 1\n",
    "\n",
    "# 3, 10\n",
    "# 1, 10\n",
    "\n",
    "# duplicate across dimension\n",
    "\n",
    "# 3, 10\n",
    "# 3, 10\n",
    "\n",
    "foo + bar"
   ]
  },
  {
   "cell_type": "code",
   "execution_count": null,
   "metadata": {},
   "outputs": [],
   "source": []
  }
 ],
 "metadata": {
  "kernelspec": {
   "display_name": "python-3.11.6",
   "language": "python",
   "name": "python3"
  },
  "language_info": {
   "codemirror_mode": {
    "name": "ipython",
    "version": 3
   },
   "file_extension": ".py",
   "mimetype": "text/x-python",
   "name": "python",
   "nbconvert_exporter": "python",
   "pygments_lexer": "ipython3",
   "version": "3.11.6"
  }
 },
 "nbformat": 4,
 "nbformat_minor": 2
}
