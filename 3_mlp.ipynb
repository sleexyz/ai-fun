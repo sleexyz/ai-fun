{
 "cells": [
  {
   "cell_type": "code",
   "execution_count": 1,
   "metadata": {},
   "outputs": [],
   "source": [
    "import torch\n",
    "import torch.nn.functional as F\n",
    "import matplotlib.pyplot as plt\n",
    "%matplotlib inline"
   ]
  },
  {
   "cell_type": "code",
   "execution_count": 2,
   "metadata": {},
   "outputs": [
    {
     "data": {
      "text/plain": [
       "tensor([[ 0,  1,  2,  3,  4,  5,  6,  7,  8,  9],\n",
       "        [10, 11, 12, 13, 14, 15, 16, 17, 18, 19],\n",
       "        [20, 21, 22, 23, 24, 25, 26, 27, 28, 29],\n",
       "        [30, 31, 32, 33, 34, 35, 36, 37, 38, 39],\n",
       "        [40, 41, 42, 43, 44, 45, 46, 47, 48, 49],\n",
       "        [50, 51, 52, 53, 54, 55, 56, 57, 58, 59],\n",
       "        [60, 61, 62, 63, 64, 65, 66, 67, 68, 69],\n",
       "        [70, 71, 72, 73, 74, 75, 76, 77, 78, 79],\n",
       "        [80, 81, 82, 83, 84, 85, 86, 87, 88, 89],\n",
       "        [90, 91, 92, 93, 94, 95, 96, 97, 98, 99]])"
      ]
     },
     "execution_count": 2,
     "metadata": {},
     "output_type": "execute_result"
    }
   ],
   "source": [
    "torch.arange(0, 100).view(10, 10)"
   ]
  },
  {
   "cell_type": "code",
   "execution_count": 3,
   "metadata": {},
   "outputs": [
    {
     "data": {
      "text/plain": [
       "tensor([[0, 2],\n",
       "        [1, 3]])"
      ]
     },
     "execution_count": 3,
     "metadata": {},
     "output_type": "execute_result"
    }
   ],
   "source": [
    "# These are indicies into a discrete structure with 4 values.\n",
    "\n",
    "X = torch.arange(0, 2) * 2 + torch.arange(0, 2).unsqueeze(1) \n",
    "X"
   ]
  },
  {
   "cell_type": "code",
   "execution_count": 4,
   "metadata": {},
   "outputs": [
    {
     "name": "stdout",
     "output_type": "stream",
     "text": [
      "tensor([[ 1, 11],\n",
      "        [ 2, 12],\n",
      "        [ 3, 13],\n",
      "        [ 4, 14]])\n"
     ]
    },
    {
     "data": {
      "text/plain": [
       "tensor([[[ 1, 11],\n",
       "         [ 3, 13]],\n",
       "\n",
       "        [[ 2, 12],\n",
       "         [ 4, 14]]])"
      ]
     },
     "execution_count": 4,
     "metadata": {},
     "output_type": "execute_result"
    }
   ],
   "source": [
    "# Suppose these are the 4 embeddings, each as row vectors.\n",
    "C = torch.tensor([[1, 11], [2, 12], [3, 13], [4, 14]])\n",
    "print(C)\n",
    "\n",
    "# we can basically use the structure of X and index into C.\n",
    "# For each index in C, we can replace the index with the value in C at the index.\n",
    "C[X]"
   ]
  },
  {
   "cell_type": "code",
   "execution_count": 5,
   "metadata": {},
   "outputs": [
    {
     "name": "stdout",
     "output_type": "stream",
     "text": [
      "(tensor([[ 1, 11],\n",
      "        [ 2, 12]]), tensor([[ 3, 13],\n",
      "        [ 4, 14]]))\n"
     ]
    },
    {
     "data": {
      "text/plain": [
       "tensor([[ 1, 11,  3, 13],\n",
       "        [ 2, 12,  4, 14]])"
      ]
     },
     "execution_count": 5,
     "metadata": {},
     "output_type": "execute_result"
    }
   ],
   "source": [
    "# Now we can flatten the structure: \"unbind\" the embedding dimension and concatenate them\n",
    "print(torch.unbind(C[X], 1))\n",
    "torch.cat(torch.unbind(C[X], 1), 1)"
   ]
  },
  {
   "cell_type": "code",
   "execution_count": 6,
   "metadata": {},
   "outputs": [
    {
     "data": {
      "text/plain": [
       "tensor([[ 1, 11,  3, 13],\n",
       "        [ 2, 12,  4, 14]])"
      ]
     },
     "execution_count": 6,
     "metadata": {},
     "output_type": "execute_result"
    }
   ],
   "source": [
    "# Now we can flatten the structure: \"unbind\" the embedding dimension and concatenate them\n",
    "C[X].view(-1, 4)"
   ]
  },
  {
   "cell_type": "markdown",
   "metadata": {},
   "source": [
    "Idea: every token corresponds to an n dimensional embedding\n",
    "> \"Fighting the curse of dimensionality with distributed representations\"\n",
    "\n",
    "Because tokens/words are embedded a shared high dimensional space, this allows \"smoothing\" for inputs out of distribution, aka combinations never encountered before.\n",
    "Similar inputs will result in more similar outputs.\n",
    "\n",
    "> \"learned distributed feature vector\"\n",
    "\n",
    "\n",
    "\n",
    "With n-gram models, context scales exponentially. Base: # of tokens. Exponent: length of context. So we never go beyond bigram/trigram.\n",
    "With MLP, context scales linearly. \n",
    "\n",
    "bengio et all used a 30-dimensional embedding for 17k words\n",
    "karpathy used a 2 dimensional embedding for 27 tokens (26 + start/end token).\n",
    "\n",
    "in the previous network we simply indexed into a single 27*27 matrix that when multiplied produced next token probabilties.\n",
    "\n",
    "now we translate characters aka indicies into embeddings.\n",
    "\n",
    "27*n matrix of indicies\n"
   ]
  },
  {
   "cell_type": "markdown",
   "metadata": {},
   "source": [
    "- E01: Tune the hyperparameters of the training to beat my best validation loss of 2.2\n"
   ]
  },
  {
   "cell_type": "code",
   "execution_count": 7,
   "metadata": {},
   "outputs": [
    {
     "data": {
      "text/plain": [
       "['emma', 'olivia', 'ava', 'isabella', 'sophia', 'charlotte', 'mia', 'amelia']"
      ]
     },
     "execution_count": 7,
     "metadata": {},
     "output_type": "execute_result"
    }
   ],
   "source": [
    "# read in all the words\n",
    "words = open('makemore/names.txt', 'r').read().splitlines()\n",
    "words[:8]"
   ]
  },
  {
   "cell_type": "code",
   "execution_count": 8,
   "metadata": {},
   "outputs": [
    {
     "name": "stdout",
     "output_type": "stream",
     "text": [
      "{1: 'a', 2: 'b', 3: 'c', 4: 'd', 5: 'e', 6: 'f', 7: 'g', 8: 'h', 9: 'i', 10: 'j', 11: 'k', 12: 'l', 13: 'm', 14: 'n', 15: 'o', 16: 'p', 17: 'q', 18: 'r', 19: 's', 20: 't', 21: 'u', 22: 'v', 23: 'w', 24: 'x', 25: 'y', 26: 'z', 0: '.'}\n"
     ]
    }
   ],
   "source": [
    "# build the vocabulary of characters and mappings to/from integers\n",
    "chars = sorted(list(set(''.join(words))))\n",
    "stoi = {s:i+1 for i,s in enumerate(chars)}\n",
    "stoi['.'] = 0\n",
    "itos = {i:s for s,i in stoi.items()}\n",
    "print(itos)"
   ]
  },
  {
   "cell_type": "code",
   "execution_count": 9,
   "metadata": {},
   "outputs": [],
   "source": [
    "import random\n",
    "random.seed(42)\n",
    "random.shuffle(words)\n",
    "n1 = int(0.8*len(words))\n",
    "n2 = int(0.9*len(words))"
   ]
  },
  {
   "cell_type": "markdown",
   "metadata": {},
   "source": [
    "# Reinit here!\n"
   ]
  },
  {
   "cell_type": "code",
   "execution_count": 10,
   "metadata": {},
   "outputs": [
    {
     "name": "stdout",
     "output_type": "stream",
     "text": [
      "torch.Size([182625, 5]) torch.Size([182625])\n",
      "torch.Size([22655, 5]) torch.Size([22655])\n",
      "torch.Size([22866, 5]) torch.Size([22866])\n"
     ]
    }
   ],
   "source": [
    "block_size = 5 # context length: how many characters do we take to predict the next one?\n",
    "\n",
    "def build_dataset(words):  \n",
    "  X, Y = [], []\n",
    "  for w in words:\n",
    "\n",
    "    #print(w)\n",
    "    context = [0] * block_size\n",
    "    for ch in w + '.':\n",
    "      ix = stoi[ch]\n",
    "      X.append(context)\n",
    "      Y.append(ix)\n",
    "      #print(''.join(itos[i] for i in context), '--->', itos[ix])\n",
    "      context = context[1:] + [ix] # crop and append\n",
    "\n",
    "  X = torch.tensor(X)\n",
    "  Y = torch.tensor(Y)\n",
    "  print(X.shape, Y.shape)\n",
    "  return X, Y\n",
    "\n",
    "\n",
    "\n",
    "Xtr, Ytr = build_dataset(words[:n1])\n",
    "Xdev, Ydev = build_dataset(words[n1:n2])\n",
    "Xte, Yte = build_dataset(words[n2:])"
   ]
  },
  {
   "cell_type": "code",
   "execution_count": 11,
   "metadata": {},
   "outputs": [
    {
     "data": {
      "text/plain": [
       "tensor([[ 0,  0,  0,  0,  0],\n",
       "        [ 0,  0,  0,  0, 25],\n",
       "        [ 0,  0,  0, 25, 21],\n",
       "        [ 0,  0, 25, 21,  8],\n",
       "        [ 0, 25, 21,  8,  5],\n",
       "        [25, 21,  8,  5, 14],\n",
       "        [21,  8,  5, 14,  7],\n",
       "        [ 0,  0,  0,  0,  0],\n",
       "        [ 0,  0,  0,  0,  4],\n",
       "        [ 0,  0,  0,  4,  9]])"
      ]
     },
     "execution_count": 11,
     "metadata": {},
     "output_type": "execute_result"
    }
   ],
   "source": [
    "Xtr[:10]"
   ]
  },
  {
   "cell_type": "code",
   "execution_count": 343,
   "metadata": {},
   "outputs": [],
   "source": [
    "W1_n = 200\n",
    "t_d = 12\n",
    "g = torch.Generator().manual_seed(2147483647) # for reproducibility\n",
    "C = torch.randn((27, t_d), generator=g)\n",
    "W1 = torch.randn((t_d * block_size, W1_n), generator=g) * 0.01\n",
    "# W1 = torch.ones((t_d * block_size, W1_n))\n",
    "b1 = torch.randn(W1_n, generator=g) * 0.01\n",
    "# b1 = torch.zeros(W1_n)\n",
    "W2 = torch.randn((W1_n, 27), generator=g) * 0.01\n",
    "# W2 = torch.ones((W1_n, 27)) * 0.1\n",
    "# b2 = torch.randn(27, generator=g)\n",
    "b2 = torch.zeros(27)\n",
    "parameters = [C, W1, b1, W2, b2]"
   ]
  },
  {
   "cell_type": "code",
   "execution_count": 344,
   "metadata": {},
   "outputs": [
    {
     "data": {
      "text/plain": [
       "17951"
      ]
     },
     "execution_count": 344,
     "metadata": {},
     "output_type": "execute_result"
    }
   ],
   "source": [
    "sum(p.nelement() for p in parameters) # number of parameters in total\n"
   ]
  },
  {
   "cell_type": "code",
   "execution_count": 345,
   "metadata": {},
   "outputs": [],
   "source": [
    "for p in parameters:\n",
    "  p.requires_grad = True"
   ]
  },
  {
   "cell_type": "code",
   "execution_count": 346,
   "metadata": {},
   "outputs": [],
   "source": [
    "# learning-rate exponent\n",
    "lre = torch.linspace(-3, 0, 1000)\n",
    "\n",
    "# learing-rate step\n",
    "lrs = 10**lre"
   ]
  },
  {
   "cell_type": "code",
   "execution_count": 347,
   "metadata": {},
   "outputs": [],
   "source": [
    "lri = []\n",
    "lossi = []\n",
    "stepi = []"
   ]
  },
  {
   "cell_type": "code",
   "execution_count": 348,
   "metadata": {},
   "outputs": [
    {
     "data": {
      "text/plain": [
       "182625"
      ]
     },
     "execution_count": 348,
     "metadata": {},
     "output_type": "execute_result"
    }
   ],
   "source": [
    "Xtr.shape[0]"
   ]
  },
  {
   "cell_type": "code",
   "execution_count": 349,
   "metadata": {},
   "outputs": [
    {
     "data": {
      "text/plain": [
       "tensor([  8386,  80014, 145444,  84577, 121667, 118311, 106817, 146102,  28366,\n",
       "        140090,  27651,  82453,  92054,  27448,  13758,  97246,  72662, 109261,\n",
       "        172284,  27197,  27936,  79865,  86902, 157288,  78441,  13501, 181339,\n",
       "        153635,  44643,  10582, 170227,   6120])"
      ]
     },
     "execution_count": 349,
     "metadata": {},
     "output_type": "execute_result"
    }
   ],
   "source": [
    "# Batch indicies\n",
    "ix = torch.randint(0, Xtr.shape[0], (32,))\n",
    "ix"
   ]
  },
  {
   "cell_type": "code",
   "execution_count": 350,
   "metadata": {},
   "outputs": [
    {
     "data": {
      "text/plain": [
       "tensor([[ 0,  0,  0,  1, 14],\n",
       "        [ 0,  0,  0, 16, 18],\n",
       "        [ 0,  5, 21, 12,  1],\n",
       "        [ 0,  0, 26,  1,  4],\n",
       "        [ 0,  0,  0, 11,  1],\n",
       "        [ 8,  1, 18, 16,  5],\n",
       "        [26,  1, 25, 12,  5],\n",
       "        [ 4,  1, 12,  9,  1],\n",
       "        [ 2, 18,  9,  5, 12],\n",
       "        [ 0,  0,  6,  5, 18]])"
      ]
     },
     "execution_count": 350,
     "metadata": {},
     "output_type": "execute_result"
    }
   ],
   "source": [
    "# Get context from indicies\n",
    "Xtr[ix][:10]"
   ]
  },
  {
   "cell_type": "code",
   "execution_count": 365,
   "metadata": {},
   "outputs": [],
   "source": [
    "for i in range(400000):\n",
    "  \n",
    "  # minibatch construct\n",
    "  # Take 32 random sequences from training set.\n",
    "  ix = torch.randint(0, Xtr.shape[0], (32,))\n",
    "  \n",
    "  # forward pass\n",
    "\n",
    "  # Xtr[ix] adds context (\"get context at list index ix\"). ix is list of sample indicies.\n",
    "  # C[Xtr[ix]] adds embedding (\"get embedding at token index xtr\"). Xtr[ix] is list of token indicies.\n",
    "\n",
    "  emb = C[Xtr[ix]] # (32, 3, 10)\n",
    "\n",
    "  # emb.view: We collapse the embedding tensor dimension\n",
    "  # and get a (32, 30) tensor\n",
    "\n",
    "  # 32 items in \"30 dimensional space\"\n",
    "\n",
    "  # which we multiply by weights W1 (30, 200) (30 rows, 200 columns)\n",
    "  # to get a (32, 200) tensor\n",
    "  h = torch.tanh(emb.view(-1, t_d * block_size) @ W1 + b1) # (32, 200)\n",
    "\n",
    "  # Idea:\n",
    "  # We're lifing up the 32 items to \"200 dimensional space\"\n",
    "\n",
    "  # And then We multiply by W2 (200, 27) to get prediction back.\n",
    "  # Idea: we project back down to \"27-dimensional space\".\n",
    "  # These two determine a \"probability function\" for these 30-dimensional token embeddings (which we're simultaneously learning).\n",
    "  logits = h @ W2 + b2 # (32, 27)\n",
    "\n",
    "  # Finally we compute probabilities and see how well that models the output data\n",
    "  # log it, and invert it.\n",
    "  loss = F.cross_entropy(logits, Ytr[ix], label_smoothing=0.00) \n",
    "\n",
    "  #print(loss.item())\n",
    "  \n",
    "  # backward pass\n",
    "  for p in parameters:\n",
    "    p.grad = None\n",
    "  loss.backward()\n",
    "  \n",
    "  # update\n",
    "  #lr = lrs[i]\n",
    "  lr = 0.1 if i < 100000 else 0.01\n",
    "  lr = lr  if i < 200000 else 0.001\n",
    "  for p in parameters:\n",
    "    p.data += -lr * p.grad\n",
    "\n",
    "  # track stats\n",
    "  #lri.append(lre[i])\n",
    "  stepi.append(i)\n",
    "  # lossi.append(loss.log10().item())\n",
    "  lossi.append(loss.log10().item())\n",
    "\n",
    "#print(loss.item())\n"
   ]
  },
  {
   "cell_type": "code",
   "execution_count": 352,
   "metadata": {},
   "outputs": [
    {
     "data": {
      "text/plain": [
       "torch.Size([32, 200])"
      ]
     },
     "execution_count": 352,
     "metadata": {},
     "output_type": "execute_result"
    }
   ],
   "source": [
    "h.shape"
   ]
  },
  {
   "cell_type": "code",
   "execution_count": 353,
   "metadata": {},
   "outputs": [
    {
     "data": {
      "image/png": "[encoded data removed]",
      "text/plain": [
       "<Figure size 640x480 with 1 Axes>"
      ]
     },
     "metadata": {},
     "output_type": "display_data"
    }
   ],
   "source": [
    "plt.imshow(h[:20].abs() > 0.99, cmap='gray', interpolation='nearest');"
   ]
  },
  {
   "cell_type": "code",
   "execution_count": 354,
   "metadata": {},
   "outputs": [
    {
     "data": {
      "image/png": "[encoded data removed]",
      "text/plain": [
       "<Figure size 640x480 with 1 Axes>"
      ]
     },
     "metadata": {},
     "output_type": "display_data"
    }
   ],
   "source": [
    "plt.hist(h.view(-1).tolist(), 50 );"
   ]
  },
  {
   "cell_type": "code",
   "execution_count": 355,
   "metadata": {},
   "outputs": [
    {
     "data": {
      "text/plain": [
       "3.2963201994241977"
      ]
     },
     "execution_count": 355,
     "metadata": {},
     "output_type": "execute_result"
    }
   ],
   "source": [
    "import numpy as np\n",
    "np.power(10, lossi[0])"
   ]
  },
  {
   "cell_type": "code",
   "execution_count": 356,
   "metadata": {},
   "outputs": [
    {
     "data": {
      "text/plain": [
       "[<matplotlib.lines.Line2D at 0x137db7910>]"
      ]
     },
     "execution_count": 356,
     "metadata": {},
     "output_type": "execute_result"
    },
    {
     "data": {
      "image/png": "[encoded data removed]",
      "text/plain": [
       "<Figure size 640x480 with 1 Axes>"
      ]
     },
     "metadata": {},
     "output_type": "display_data"
    }
   ],
   "source": [
    "plt.plot(stepi, lossi)\n"
   ]
  },
  {
   "cell_type": "markdown",
   "metadata": {},
   "source": [
    "```\n",
    "default:\n",
    "block_size: 3\n",
    "t_d: 10\n",
    "W1_n: 200\n",
    "\n",
    "default:                      | loss_tr = 2.1146, loss_va = 2.1766, diff ~= .06\n",
    "default:                      | loss_tr = 2.1171, loss_va = 2.1602, diff ~= .04\n",
    "\n",
    "block_size: 5                 | loss_tr = 2.1945, loss_va = 2.2241, diff ~= .03\n",
    "t_d: 11                       | loss_tr = 2.1093, loss_va = 2.1637, diff ~= .05\n",
    "t_d: 12                       | loss_tr = 2.1064, loss_va = 2.1575, diff ~= .05\n",
    "t_d: 12                       | loss_tr = 2.1047, loss_va = 2.1581, diff ~= .05\n",
    "t_d: 12 +  W1_n: 205          | \n",
    "t_d: 15                       | loss_tr = 2.0893, loss_va = 2.1709, diff ~= .08\n",
    "t_d: 20                       | loss_tr = 2.0680, loss_va = 2.1646, diff ~= .1\n",
    "t_d: 20 + 0.1 smoothing       | loss_tr = 2.1085, loss_va = 2.1668, diff ~= .06\n",
    "default + 0.1 smoothing       | loss_tr = 2.1890, loss_va = 2.2265, diff ~= .04\n",
    "default + 0.01 smoothing      | loss_tr = 2.1252, loss_va = 2.1766, diff ~= .05\n",
    "W1_n: 400 + 0.01 smoothing    | loss_tr = 2.1061, loss_va = 2.2481, diff ~= .15\n",
    "W1_n: 1000                    | loss_tr = 2.1061, loss_va = 2.2481, diff ~= .15\n",
    "```\n"
   ]
  },
  {
   "cell_type": "code",
   "execution_count": 357,
   "metadata": {},
   "outputs": [
    {
     "data": {
      "text/plain": [
       "tensor(1.9748, grad_fn=<NllLossBackward0>)"
      ]
     },
     "execution_count": 357,
     "metadata": {},
     "output_type": "execute_result"
    }
   ],
   "source": [
    "emb = C[Xtr] # (32, 3, 2)\n",
    "h = torch.tanh(emb.view(-1, t_d*block_size) @ W1 + b1) # (32, 100)\n",
    "logits = h @ W2 + b2 # (32, 27)\n",
    "loss = F.cross_entropy(logits, Ytr)\n",
    "loss"
   ]
  },
  {
   "cell_type": "code",
   "execution_count": 358,
   "metadata": {},
   "outputs": [
    {
     "data": {
      "text/plain": [
       "tensor(2.0533, grad_fn=<NllLossBackward0>)"
      ]
     },
     "execution_count": 358,
     "metadata": {},
     "output_type": "execute_result"
    }
   ],
   "source": [
    "emb = C[Xdev] # (32, 3, 2)\n",
    "h = torch.tanh(emb.view(-1, t_d*block_size) @ W1 + b1) # (32, 100)\n",
    "logits = h @ W2 + b2 # (32, 27)\n",
    "loss = F.cross_entropy(logits, Ydev)\n",
    "loss"
   ]
  },
  {
   "cell_type": "markdown",
   "metadata": {},
   "source": [
    "E02: I was not careful with the intialization of the network in this video. (1) What is the loss you'd get if the predicted probabilities at initialization were perfectly uniform? What loss do we achieve? (2) Can you tune the initialization to get a starting loss that is much more similar to (1)?\n",
    "\n",
    "suppose probabilities are uniform -- 1/27 for all\n",
    "then likelihood given any outcome is uniform -- 1/27 for all\n",
    "then negative log likelyhood given any outcome is uniform -- -log(1/27)\n",
    "\n",
    "expected initial loss: 3.295836866004329\n",
    "\n",
    "We should also set bias to zero.\n",
    "\n",
    "\n",
    "2.13   | block_size: 3, t_d: 12\n",
    "2.1143 | block_size: 4, t_d: 12\n",
    "2.1133 | block_size: 5, t_d: 12\n",
    "2.1188 | block_size: 5, t_d: 12\n",
    "2.1124 | block_size: 5, t_d: 12\n",
    "\n",
    "okay what if we do the same with the first layer?"
   ]
  },
  {
   "cell_type": "code",
   "execution_count": 359,
   "metadata": {},
   "outputs": [
    {
     "name": "stdout",
     "output_type": "stream",
     "text": [
      "aha\n",
      "hhih\n",
      "eha\n",
      "hi\n",
      "hehe\n",
      "hyn\n",
      "hyii\n",
      "hi\n",
      "hehe\n",
      "hahyyi\n",
      "hhie\n",
      "ehyziyyy\n",
      "hhithi\n",
      "hehii\n",
      "hahyiie\n",
      "hahhi\n",
      "yyi\n",
      "hy\n",
      "hi\n",
      "ehye\n",
      "hi\n",
      "hyyekewyirehi\n",
      "he\n",
      "ehaye\n",
      "iehhe\n",
      "hha\n",
      "ehywere\n",
      "hi\n",
      "hyahy\n",
      "hehoyi\n",
      "ihahdchae\n",
      "hi\n",
      "hayi\n",
      "yehyyy\n",
      "ha\n",
      "he\n",
      "he\n",
      "hhoachyye\n",
      "ehece\n",
      "e\n",
      "heyi\n",
      "hi\n",
      "hyke\n",
      "hihicytaye\n",
      "i\n",
      "hehe\n",
      "hhe\n",
      "ahehehyyye\n",
      "hehi\n",
      "hyahi\n",
      "hahe\n",
      "hhyi\n",
      "oiei\n",
      "hehe\n",
      "hihi\n",
      "hehumi\n",
      "iheta\n",
      "eyieyi\n",
      "hehyyy\n",
      "he\n",
      "he\n",
      "hhyeyiyyei\n",
      "hieu\n",
      "ehi\n",
      "hewheliyiahi\n",
      "hhahy\n",
      "hhu\n",
      "hha\n",
      "hehimota\n",
      "hy\n",
      "hyyii\n",
      "hehahaahiyi\n",
      "he\n",
      "heheyeye\n",
      "hhoyyuye\n",
      "he\n",
      "ha\n",
      "hehryye\n",
      "hahi\n",
      "hihi\n",
      "hyhyi\n",
      "hy\n",
      "iheco\n",
      "aheity\n",
      "he\n",
      "hi\n",
      "hya\n",
      "hihiyike\n",
      "hihcyi\n",
      "hyhecy\n",
      "he\n",
      "ehiehi\n",
      "ixoeeiyithycoti\n",
      "ahoe\n",
      "yeheii\n",
      "heha\n",
      "isosyeyi\n",
      "hyehe\n",
      "\n",
      "hiho\n",
      "hyye\n",
      "hehye\n",
      "yy\n",
      "heha\n",
      "hyehe\n",
      "hy\n",
      "hehi\n",
      "he\n",
      "i\n",
      "hihe\n",
      "hhye\n",
      "hieyieeyyihye\n",
      "hiu\n",
      "he\n",
      "yhi\n",
      "hhei\n",
      "yye\n",
      "ahawa\n",
      "eheyice\n",
      "hyawa\n",
      "hyyekyyie\n",
      "hihicy\n",
      "hyeye\n",
      "ihyye\n",
      "he\n",
      "hhahoye\n",
      "ha\n",
      "hyhe\n",
      "heetkyiye\n",
      "he\n",
      "yehahahe\n",
      "hehe\n",
      "hyhehe\n",
      "he\n",
      "ha\n",
      "hhyeedyyohiyi\n",
      "hehuyi\n",
      "haha\n",
      "hyeko\n",
      "hahahi\n",
      "e\n",
      "hi\n",
      "yyeety\n",
      "hehoye\n",
      "hyhy\n",
      "hehyyi\n",
      "hihi\n",
      "hehyyyie\n",
      "yyye\n",
      "hehe\n",
      "huehiyyxehi\n",
      "hy\n",
      "hehieyyi\n",
      "ieheyiiicy\n",
      "hehye\n",
      "hyhye\n",
      "huetyyy\n",
      "hihi\n",
      "aha\n",
      "hhye\n",
      "hyice\n",
      "ehaheyiyii\n",
      "aheegyyre\n",
      "heha\n",
      "yorke\n",
      "hihocyyyayeyi\n",
      "hhye\n",
      "hehyyiykete\n",
      "hilikyehy\n",
      "hahydyye\n",
      "ahhe\n",
      "hi\n",
      "hi\n",
      "huhi\n",
      "hi\n",
      "ehekyy\n",
      "ehi\n",
      "hi\n",
      "hehye\n",
      "he\n",
      "heye\n",
      "hehe\n",
      "heho\n",
      "hyrieeliideko\n",
      "hyeycel\n",
      "hyye\n",
      "he\n",
      "iuhehe\n",
      "he\n",
      "hehyyieya\n",
      "hehyeu\n",
      "hihyehya\n",
      "ehitthyi\n",
      "yihe\n",
      "hy\n",
      "ehyace\n",
      "eheyie\n",
      "hitoyytikesy\n",
      "hhy\n",
      "teyerihe\n",
      "ahi\n",
      "he\n",
      "hooe\n",
      "hehi\n",
      "hye\n",
      "hahayy\n",
      "hethy\n",
      "hy\n",
      "hehyahyyy\n",
      "hihleghsuy\n",
      "yye\n",
      "he\n",
      "hehearcyy\n",
      "ehyekhryyy\n",
      "ahyeyhahi\n",
      "hahuye\n",
      "he\n",
      "huehea\n",
      "ehe\n",
      "hehi\n",
      "hhi\n",
      "y\n",
      "ahyyi\n",
      "he\n",
      "ahihi\n",
      "hy\n",
      "hhi\n",
      "yehyi\n",
      "aaice\n",
      "itheyi\n",
      "hehu\n",
      "ihi\n",
      "hi\n",
      "yeheirhyho\n",
      "heetiyi\n",
      "hyho\n",
      "hhyyehyyeyye\n",
      "hhyyie\n",
      "ihike\n",
      "hi\n",
      "hehi\n",
      "heahiiyeyyiah\n",
      "heheaha\n",
      "hhhi\n",
      "ye\n",
      "ahyykeyy\n",
      "heya\n",
      "hahi\n",
      "hehe\n",
      "ya\n",
      "ehie\n",
      "haykyyy\n",
      "hehye\n",
      "eheri\n",
      "hikyyu\n",
      "ehr\n",
      "hahkeziaheyyu\n",
      "hi\n",
      "hewacd\n",
      "eha\n",
      "heyyy\n",
      "eheko\n",
      "hy\n",
      "haw\n",
      "hehyyy\n",
      "ghjeee\n",
      "hyye\n",
      "yehyehi\n",
      "hahahyyyo\n",
      "hhyece\n",
      "hehe\n",
      "hii\n",
      "hyiakceada\n",
      "i\n",
      "he\n",
      "hetahahy\n",
      "he\n",
      "hhahoaheeky\n",
      "hahy\n",
      "heheyieteyye\n",
      "aahusi\n",
      "heho\n",
      "hyoicy\n",
      "hy\n",
      "hirhyyy\n",
      "ha\n",
      "hyekhyeo\n",
      "eheri\n",
      "heha\n",
      "hyyyaheyiyye\n",
      "hy\n",
      "hei\n",
      "hhahaha\n",
      "ahi\n",
      "haha\n",
      "hi\n",
      "age\n",
      "ahiaha\n",
      "he\n",
      "yahe\n",
      "rhi\n",
      "hhahahu\n",
      "he\n",
      "yehyyy\n",
      "hheho\n",
      "haho\n",
      "ihyei\n",
      "he\n",
      "hyheehi\n",
      "hyehyi\n",
      "yahahy\n",
      "heecykye\n",
      "hiehyire\n",
      "hahcyu\n",
      "eheke\n",
      "yeeteehee\n",
      "hehe\n",
      "heheeahyeyhyyyhyhe\n",
      "yahahi\n",
      "iahyyi\n",
      "hhahi\n",
      "hyhi\n",
      "hehyyii\n",
      "hethyne\n",
      "ha\n",
      "hi\n",
      "hehyei\n",
      "yie\n",
      "ahhyi\n",
      "hahuyi\n",
      "hyhi\n",
      "hhi\n",
      "hy\n",
      "hy\n",
      "ethye\n",
      "heholegyehyhonyneeyi\n",
      "yahahe\n",
      "hiaheyi\n",
      "hihe\n",
      "hiekhyy\n",
      "yhoachehi\n",
      "hehi\n",
      "hyece\n",
      "heheety\n",
      "hehelye\n",
      "hahya\n",
      "hhahe\n",
      "hii\n",
      "he\n",
      "hi\n",
      "hihyayi\n",
      "hihi\n",
      "ahiahyye\n",
      "hyai\n",
      "hahi\n",
      "hihi\n",
      "hahyie\n",
      "hyhe\n",
      "ihi\n",
      "ehi\n",
      "eheyy\n",
      "heehayyekyine\n",
      "hunchi\n",
      "hu\n",
      "he\n",
      "hihekeyi\n",
      "hy\n",
      "hihi\n",
      "hyehehahiyeettyy\n",
      "ehy\n",
      "hho\n",
      "heiryyi\n",
      "ha\n",
      "yeheyi\n",
      "hy\n",
      "heyyykei\n",
      "hhio\n",
      "he\n",
      "ehoagyyi\n",
      "hhyye\n",
      "hayyi\n",
      "hyu\n",
      "hahiihy\n",
      "hy\n",
      "ahi\n",
      "hihyei\n",
      "hyyi\n",
      "ahahoe\n",
      "hehece\n",
      "eheyy\n",
      "hi\n",
      "hehoyie\n",
      "aciky\n",
      "hykyyi\n",
      "hehi\n",
      "hyhy\n",
      "hihesheyy\n",
      "ie\n",
      "hi\n",
      "hhaheyi\n",
      "eheex\n",
      "hye\n",
      "ehevi\n",
      "hoihyyiiyahahahieyi\n",
      "hytyi\n",
      "hehi\n",
      "eha\n",
      "hyeo\n",
      "ehyyi\n",
      "hehe\n",
      "hyea\n",
      "ahi\n",
      "hhe\n",
      "hahhaheyi\n",
      "eejyy\n",
      "hhhe\n",
      "hi\n",
      "hihoe\n",
      "hhi\n",
      "hahyeyi\n",
      "ahha\n",
      "hehyaheyi\n",
      "hy\n",
      "yce\n",
      "heaha\n",
      "hehi\n",
      "ehoehyaheye\n",
      "heya\n",
      "hihyee\n",
      "hahu\n",
      "hy\n",
      "hahyeheekyae\n",
      "hhaho\n",
      "heki\n",
      "aheyi\n",
      "hohyye\n",
      "hhoi\n",
      "hehi\n",
      "hiecy\n",
      "hhi\n",
      "hhyee\n",
      "ehe\n",
      "e\n",
      "ohe\n",
      "hyhyyeheiie\n",
      "hehi\n",
      "hhyyy\n",
      "hyheye\n",
      "hy\n",
      "hyhoe\n",
      "hehye\n",
      "hehyyy\n",
      "aye\n",
      "hyyixa\n",
      "hehyehi\n",
      "hahyiect\n",
      "hhyyy\n",
      "hahyyy\n",
      "yhyeyxiyi\n",
      "hahahy\n",
      "haanya\n",
      "hi\n",
      "hehie\n",
      "hihe\n",
      "acaheahoyi\n",
      "hehe\n",
      "he\n",
      "hi\n",
      "eehiko\n",
      "yehyyya\n",
      "ye\n",
      "aha\n",
      "hhethy\n",
      "ha\n",
      "hyhoeyyiheyi\n",
      "hyhihe\n",
      "heektyyie\n",
      "hehi\n",
      "ahiha\n",
      "hihike\n",
      "huyye\n",
      "hehi\n",
      "he\n",
      "hhyhoiceyi\n",
      "hehi\n",
      "eheyii\n",
      "hyyiye\n",
      "aheee\n",
      "haheeehycha\n",
      "hehe\n",
      "tye\n",
      "hiho\n",
      "aaceye\n",
      "hehyiresh\n",
      "hehe\n",
      "hihovyyi\n",
      "hyhe\n",
      "hehyi\n",
      "ehewyita\n",
      "hehyyy\n"
     ]
    }
   ],
   "source": [
    "# Exercise: derive generate code\n",
    "\n",
    "def gen_word():\n",
    "    context = [0] * block_size\n",
    "    while True:\n",
    "      emb = C[context[-block_size:]] # (1, 3, 2)\n",
    "      emb[:, 2] = 10\n",
    "      W1_ = W1.clone()\n",
    "      # W1_[:,torch.randint(0, 200,(200,) )] *= 0 # picks a theme\n",
    "      h = torch.tanh(emb.view(-1, t_d*block_size) @ W1_ + b1) # (block_size, 100)\n",
    "      W2_ = W2.clone()\n",
    "      # W2_[50] *= -3\n",
    "      logits = h @ W2_ + b2 # (32, 27)\n",
    "      # logits[0, stoi['l']] *= 2\n",
    "      # logits[0, stoi['x']] *= 10\n",
    "      # logits[0, stoi['q']] += 5\n",
    "      # get probabilities\n",
    "      probs = torch.softmax(logits, dim=1)\n",
    "      # probs = 1 - probs\n",
    "      iy = torch.multinomial(probs, num_samples=1, replacement=True, generator=g)\n",
    "      if iy.item() == 0:\n",
    "        break\n",
    "      context = context + [iy.item()] # crop and append\n",
    "    word = []\n",
    "    for c in context[block_size:]:\n",
    "      word.append(itos[c])\n",
    "    return \"\".join(word)\n",
    "\n",
    "for _ in range(500):\n",
    "  print(gen_word())"
   ]
  },
  {
   "cell_type": "code",
   "execution_count": 360,
   "metadata": {},
   "outputs": [
    {
     "data": {
      "text/plain": [
       "3.295836866004329"
      ]
     },
     "execution_count": 360,
     "metadata": {},
     "output_type": "execute_result"
    }
   ],
   "source": [
    "import numpy as np\n",
    "-1 * np.log(1/27)"
   ]
  },
  {
   "cell_type": "code",
   "execution_count": 361,
   "metadata": {},
   "outputs": [
    {
     "data": {
      "image/png": "[encoded data removed]",
      "text/plain": [
       "<Figure size 800x800 with 1 Axes>"
      ]
     },
     "metadata": {},
     "output_type": "display_data"
    }
   ],
   "source": [
    "# visualize dimensions 0 and 1 of the embedding matrix C for all characters\n",
    "plt.figure(figsize=(8,8))\n",
    "plt.scatter(C[:,0].data, C[:,1].data, s=200)\n",
    "for i in range(C.shape[0]):\n",
    "    plt.text(C[i,0].item(), C[i,1].item(), itos[i], ha=\"center\", va=\"center\", color='white')\n",
    "plt.grid('minor')"
   ]
  },
  {
   "cell_type": "code",
   "execution_count": 362,
   "metadata": {},
   "outputs": [
    {
     "data": {
      "image/png": "[encoded data removed]",
      "text/plain": [
       "<Figure size 800x800 with 1 Axes>"
      ]
     },
     "metadata": {},
     "output_type": "display_data"
    }
   ],
   "source": [
    "import umap\n",
    "# visualize umapped embedding matrix C for all characters\n",
    "\n",
    "C_r = umap.UMAP(n_components=2, n_neighbors=2, min_dist=1, metric=\"cosine\").fit_transform(C.detach().numpy())\n",
    "\n",
    "\n",
    "plt.figure(figsize=(8,8))\n",
    "plt.scatter(C_r[:,0].data, C_r[:,1].data, s=200)\n",
    "for i in range(C_r.shape[0]):\n",
    "    plt.text(C_r[i,0].item(), C_r[i,1].item(), itos[i], ha=\"center\", va=\"center\", color='white')\n",
    "plt.grid('minor')"
   ]
  },
  {
   "cell_type": "code",
   "execution_count": 364,
   "metadata": {},
   "outputs": [
    {
     "data": {
      "text/plain": [
       "tensor([[0.7228, 0.4868, 0.3885, 0.3776, 0.5786],\n",
       "        [0.8731, 0.6647, 0.8390, 0.2564, 0.2770],\n",
       "        [0.0468, 0.1764, 0.8774, 0.5026, 0.3332]])"
      ]
     },
     "execution_count": 364,
     "metadata": {},
     "output_type": "execute_result"
    }
   ],
   "source": []
  },
  {
   "cell_type": "code",
   "execution_count": null,
   "metadata": {},
   "outputs": [],
   "source": []
  }
 ],
 "metadata": {
  "kernelspec": {
   "display_name": "python-3.11.6",
   "language": "python",
   "name": "python3"
  },
  "language_info": {
   "codemirror_mode": {
    "name": "ipython",
    "version": 3
   },
   "file_extension": ".py",
   "mimetype": "text/x-python",
   "name": "python",
   "nbconvert_exporter": "python",
   "pygments_lexer": "ipython3",
   "version": "3.11.6"
  }
 },
 "nbformat": 4,
 "nbformat_minor": 2
}
