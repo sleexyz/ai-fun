{
 "cells": [
  {
   "cell_type": "code",
   "execution_count": 1,
   "metadata": {},
   "outputs": [],
   "source": [
    "import torch\n",
    "import torch.nn.functional as F\n",
    "import matplotlib.pyplot as plt\n",
    "%matplotlib inline"
   ]
  },
  {
   "cell_type": "code",
   "execution_count": 2,
   "metadata": {},
   "outputs": [
    {
     "data": {
      "text/plain": [
       "tensor([[ 0,  1,  2,  3,  4,  5,  6,  7,  8,  9],\n",
       "        [10, 11, 12, 13, 14, 15, 16, 17, 18, 19],\n",
       "        [20, 21, 22, 23, 24, 25, 26, 27, 28, 29],\n",
       "        [30, 31, 32, 33, 34, 35, 36, 37, 38, 39],\n",
       "        [40, 41, 42, 43, 44, 45, 46, 47, 48, 49],\n",
       "        [50, 51, 52, 53, 54, 55, 56, 57, 58, 59],\n",
       "        [60, 61, 62, 63, 64, 65, 66, 67, 68, 69],\n",
       "        [70, 71, 72, 73, 74, 75, 76, 77, 78, 79],\n",
       "        [80, 81, 82, 83, 84, 85, 86, 87, 88, 89],\n",
       "        [90, 91, 92, 93, 94, 95, 96, 97, 98, 99]])"
      ]
     },
     "execution_count": 2,
     "metadata": {},
     "output_type": "execute_result"
    }
   ],
   "source": [
    "torch.arange(0, 100).view(10, 10)"
   ]
  },
  {
   "cell_type": "code",
   "execution_count": 3,
   "metadata": {},
   "outputs": [
    {
     "data": {
      "text/plain": [
       "tensor([[0, 2],\n",
       "        [1, 3]])"
      ]
     },
     "execution_count": 3,
     "metadata": {},
     "output_type": "execute_result"
    }
   ],
   "source": [
    "# These are indicies into a discrete structure with 4 values.\n",
    "\n",
    "X = torch.arange(0, 2) * 2 + torch.arange(0, 2).unsqueeze(1) \n",
    "X"
   ]
  },
  {
   "cell_type": "code",
   "execution_count": 4,
   "metadata": {},
   "outputs": [
    {
     "name": "stdout",
     "output_type": "stream",
     "text": [
      "tensor([[ 1, 11],\n",
      "        [ 2, 12],\n",
      "        [ 3, 13],\n",
      "        [ 4, 14]])\n"
     ]
    },
    {
     "data": {
      "text/plain": [
       "tensor([[[ 1, 11],\n",
       "         [ 3, 13]],\n",
       "\n",
       "        [[ 2, 12],\n",
       "         [ 4, 14]]])"
      ]
     },
     "execution_count": 4,
     "metadata": {},
     "output_type": "execute_result"
    }
   ],
   "source": [
    "# Suppose these are the 4 embeddings, each as row vectors.\n",
    "C = torch.tensor([[1, 11], [2, 12], [3, 13], [4, 14]])\n",
    "print(C)\n",
    "\n",
    "# we can basically use the structure of X and index into C.\n",
    "# For each index in C, we can replace the index with the value in C at the index.\n",
    "C[X]"
   ]
  },
  {
   "cell_type": "code",
   "execution_count": 5,
   "metadata": {},
   "outputs": [
    {
     "name": "stdout",
     "output_type": "stream",
     "text": [
      "(tensor([[ 1, 11],\n",
      "        [ 2, 12]]), tensor([[ 3, 13],\n",
      "        [ 4, 14]]))\n"
     ]
    },
    {
     "data": {
      "text/plain": [
       "tensor([[ 1, 11,  3, 13],\n",
       "        [ 2, 12,  4, 14]])"
      ]
     },
     "execution_count": 5,
     "metadata": {},
     "output_type": "execute_result"
    }
   ],
   "source": [
    "# Now we can flatten the structure: \"unbind\" the embedding dimension and concatenate them\n",
    "print(torch.unbind(C[X], 1))\n",
    "torch.cat(torch.unbind(C[X], 1), 1)"
   ]
  },
  {
   "cell_type": "code",
   "execution_count": 6,
   "metadata": {},
   "outputs": [
    {
     "data": {
      "text/plain": [
       "tensor([[ 1, 11,  3, 13],\n",
       "        [ 2, 12,  4, 14]])"
      ]
     },
     "execution_count": 6,
     "metadata": {},
     "output_type": "execute_result"
    }
   ],
   "source": [
    "# Now we can flatten the structure: \"unbind\" the embedding dimension and concatenate them\n",
    "C[X].view(-1, 4)"
   ]
  },
  {
   "cell_type": "markdown",
   "metadata": {},
   "source": [
    "Idea: every token corresponds to an n dimensional embedding\n",
    "> \"Fighting the curse of dimensionality with distributed representations\"\n",
    "\n",
    "Because tokens/words are embedded a shared high dimensional space, this allows \"smoothing\" for inputs out of distribution, aka combinations never encountered before.\n",
    "Similar inputs will result in more similar outputs.\n",
    "\n",
    "> \"learned distributed feature vector\"\n",
    "\n",
    "\n",
    "\n",
    "With n-gram models, context scales exponentially. Base: # of tokens. Exponent: length of context. So we never go beyond bigram/trigram.\n",
    "With MLP, context scales linearly. \n",
    "\n",
    "bengio et all used a 30-dimensional embedding for 17k words\n",
    "karpathy used a 2 dimensional embedding for 27 tokens (26 + start/end token).\n",
    "\n",
    "in the previous network we simply indexed into a single 27*27 matrix that when multiplied produced next token probabilties.\n",
    "\n",
    "now we translate characters aka indicies into embeddings.\n",
    "\n",
    "27*n matrix of indicies\n"
   ]
  },
  {
   "cell_type": "markdown",
   "metadata": {},
   "source": [
    "- E01: Tune the hyperparameters of the training to beat my best validation loss of 2.2\n"
   ]
  },
  {
   "cell_type": "code",
   "execution_count": 7,
   "metadata": {},
   "outputs": [
    {
     "data": {
      "text/plain": [
       "['emma', 'olivia', 'ava', 'isabella', 'sophia', 'charlotte', 'mia', 'amelia']"
      ]
     },
     "execution_count": 7,
     "metadata": {},
     "output_type": "execute_result"
    }
   ],
   "source": [
    "# read in all the words\n",
    "words = open('makemore/names.txt', 'r').read().splitlines()\n",
    "words[:8]"
   ]
  },
  {
   "cell_type": "code",
   "execution_count": 8,
   "metadata": {},
   "outputs": [
    {
     "name": "stdout",
     "output_type": "stream",
     "text": [
      "{1: 'a', 2: 'b', 3: 'c', 4: 'd', 5: 'e', 6: 'f', 7: 'g', 8: 'h', 9: 'i', 10: 'j', 11: 'k', 12: 'l', 13: 'm', 14: 'n', 15: 'o', 16: 'p', 17: 'q', 18: 'r', 19: 's', 20: 't', 21: 'u', 22: 'v', 23: 'w', 24: 'x', 25: 'y', 26: 'z', 0: '.'}\n"
     ]
    }
   ],
   "source": [
    "# build the vocabulary of characters and mappings to/from integers\n",
    "chars = sorted(list(set(''.join(words))))\n",
    "stoi = {s:i+1 for i,s in enumerate(chars)}\n",
    "stoi['.'] = 0\n",
    "itos = {i:s for s,i in stoi.items()}\n",
    "print(itos)"
   ]
  },
  {
   "cell_type": "code",
   "execution_count": 9,
   "metadata": {},
   "outputs": [],
   "source": [
    "import random\n",
    "random.seed(42)\n",
    "random.shuffle(words)\n",
    "n1 = int(0.8*len(words))\n",
    "n2 = int(0.9*len(words))"
   ]
  },
  {
   "cell_type": "markdown",
   "metadata": {},
   "source": [
    "# Reinit here!\n"
   ]
  },
  {
   "cell_type": "code",
   "execution_count": 10,
   "metadata": {},
   "outputs": [
    {
     "name": "stdout",
     "output_type": "stream",
     "text": [
      "torch.Size([182625, 5]) torch.Size([182625])\n",
      "torch.Size([22655, 5]) torch.Size([22655])\n",
      "torch.Size([22866, 5]) torch.Size([22866])\n"
     ]
    }
   ],
   "source": [
    "block_size = 5 # context length: how many characters do we take to predict the next one?\n",
    "\n",
    "def build_dataset(words):  \n",
    "  X, Y = [], []\n",
    "  for w in words:\n",
    "\n",
    "    #print(w)\n",
    "    context = [0] * block_size\n",
    "    for ch in w + '.':\n",
    "      ix = stoi[ch]\n",
    "      X.append(context)\n",
    "      Y.append(ix)\n",
    "      #print(''.join(itos[i] for i in context), '--->', itos[ix])\n",
    "      context = context[1:] + [ix] # crop and append\n",
    "\n",
    "  X = torch.tensor(X)\n",
    "  Y = torch.tensor(Y)\n",
    "  print(X.shape, Y.shape)\n",
    "  return X, Y\n",
    "\n",
    "\n",
    "\n",
    "Xtr, Ytr = build_dataset(words[:n1])\n",
    "Xdev, Ydev = build_dataset(words[n1:n2])\n",
    "Xte, Yte = build_dataset(words[n2:])"
   ]
  },
  {
   "cell_type": "code",
   "execution_count": 11,
   "metadata": {},
   "outputs": [
    {
     "data": {
      "text/plain": [
       "tensor([[ 0,  0,  0,  0,  0],\n",
       "        [ 0,  0,  0,  0, 25],\n",
       "        [ 0,  0,  0, 25, 21],\n",
       "        [ 0,  0, 25, 21,  8],\n",
       "        [ 0, 25, 21,  8,  5],\n",
       "        [25, 21,  8,  5, 14],\n",
       "        [21,  8,  5, 14,  7],\n",
       "        [ 0,  0,  0,  0,  0],\n",
       "        [ 0,  0,  0,  0,  4],\n",
       "        [ 0,  0,  0,  4,  9]])"
      ]
     },
     "execution_count": 11,
     "metadata": {},
     "output_type": "execute_result"
    }
   ],
   "source": [
    "Xtr[:10]"
   ]
  },
  {
   "cell_type": "code",
   "execution_count": 12,
   "metadata": {},
   "outputs": [],
   "source": [
    "W1_n = 200\n",
    "t_d = 12\n",
    "g = torch.Generator().manual_seed(2147483647) # for reproducibility\n",
    "C = torch.randn((27, t_d), generator=g)\n",
    "W1 = torch.randn((t_d * block_size, W1_n), generator=g)\n",
    "# W1 = torch.ones((t_d * block_size, W1_n))\n",
    "b1 = torch.randn(W1_n, generator=g)\n",
    "# b1 = torch.zeros(W1_n)\n",
    "# W2 = torch.randn((W1_n, 27), generator=g)\n",
    "W2 = torch.ones((W1_n, 27))/27\n",
    "# b2 = torch.randn(27, generator=g)\n",
    "b2 = torch.zeros(27)\n",
    "parameters = [C, W1, b1, W2, b2]"
   ]
  },
  {
   "cell_type": "code",
   "execution_count": 13,
   "metadata": {},
   "outputs": [
    {
     "data": {
      "text/plain": [
       "17951"
      ]
     },
     "execution_count": 13,
     "metadata": {},
     "output_type": "execute_result"
    }
   ],
   "source": [
    "sum(p.nelement() for p in parameters) # number of parameters in total\n"
   ]
  },
  {
   "cell_type": "code",
   "execution_count": 14,
   "metadata": {},
   "outputs": [],
   "source": [
    "for p in parameters:\n",
    "  p.requires_grad = True"
   ]
  },
  {
   "cell_type": "code",
   "execution_count": 15,
   "metadata": {},
   "outputs": [],
   "source": [
    "# learning-rate exponent\n",
    "lre = torch.linspace(-3, 0, 1000)\n",
    "\n",
    "# learing-rate step\n",
    "lrs = 10**lre"
   ]
  },
  {
   "cell_type": "code",
   "execution_count": 16,
   "metadata": {},
   "outputs": [],
   "source": [
    "lri = []\n",
    "lossi = []\n",
    "stepi = []"
   ]
  },
  {
   "cell_type": "code",
   "execution_count": 17,
   "metadata": {},
   "outputs": [
    {
     "data": {
      "text/plain": [
       "182625"
      ]
     },
     "execution_count": 17,
     "metadata": {},
     "output_type": "execute_result"
    }
   ],
   "source": [
    "Xtr.shape[0]"
   ]
  },
  {
   "cell_type": "code",
   "execution_count": 18,
   "metadata": {},
   "outputs": [
    {
     "data": {
      "text/plain": [
       "tensor([179967, 134752, 160976, 115412,  36183,  20124,  31946, 103236,  41975,\n",
       "          1598,  12820,  28838,   5937,   1275, 180886, 143792,   3302, 143438,\n",
       "         60735,  38399,  70847, 179673,  41997, 137215, 148277, 118246,  40810,\n",
       "         38617,  80583, 176565, 169556,  79113])"
      ]
     },
     "execution_count": 18,
     "metadata": {},
     "output_type": "execute_result"
    }
   ],
   "source": [
    "# Batch indicies\n",
    "ix = torch.randint(0, Xtr.shape[0], (32,))\n",
    "ix"
   ]
  },
  {
   "cell_type": "code",
   "execution_count": 19,
   "metadata": {},
   "outputs": [
    {
     "data": {
      "text/plain": [
       "tensor([[ 0,  0,  0,  0,  0],\n",
       "        [ 0,  0, 11, 15,  2],\n",
       "        [ 0,  0,  0,  0, 12],\n",
       "        [13,  1, 12,  5,  9],\n",
       "        [ 0,  0,  0,  0,  0],\n",
       "        [18, 15,  3,  3, 15],\n",
       "        [ 9,  5, 12, 12,  5],\n",
       "        [ 0,  0, 10, 15, 18],\n",
       "        [ 0,  3,  8,  1, 25],\n",
       "        [ 0,  0, 26,  1, 18]])"
      ]
     },
     "execution_count": 19,
     "metadata": {},
     "output_type": "execute_result"
    }
   ],
   "source": [
    "# Get context from indicies\n",
    "Xtr[ix][:10]"
   ]
  },
  {
   "cell_type": "code",
   "execution_count": 20,
   "metadata": {},
   "outputs": [],
   "source": [
    "for i in range(400000):\n",
    "  \n",
    "  # minibatch construct\n",
    "  # Take 32 random sequences from training set.\n",
    "  ix = torch.randint(0, Xtr.shape[0], (32,))\n",
    "  \n",
    "  # forward pass\n",
    "\n",
    "  # Xtr[ix] adds context (\"get context at list index ix\"). ix is list of sample indicies.\n",
    "  # C[Xtr[ix]] adds embedding (\"get embedding at token index xtr\"). Xtr[ix] is list of token indicies.\n",
    "\n",
    "  emb = C[Xtr[ix]] # (32, 3, 10)\n",
    "\n",
    "  # emb.view: We collapse the embedding tensor dimension\n",
    "  # and get a (32, 30) tensor\n",
    "\n",
    "  # 32 items in \"30 dimensional space\"\n",
    "\n",
    "  # which we multiply by weights W1 (30, 200) (30 rows, 200 columns)\n",
    "  # to get a (32, 200) tensor\n",
    "  h = torch.tanh(emb.view(-1, t_d * block_size) @ W1 + b1) # (32, 200)\n",
    "\n",
    "  # Idea:\n",
    "  # We're lifing up the 32 items to \"200 dimensional space\"\n",
    "\n",
    "  # And then We multiply by W2 (200, 27) to get prediction back.\n",
    "  # Idea: we project back down to \"27-dimensional space\".\n",
    "  # These two determine a \"probability function\" for these 30-dimensional token embeddings (which we're simultaneously learning).\n",
    "  logits = h @ W2 + b2 # (32, 27)\n",
    "\n",
    "  # Finally we compute probabilities and see how well that models the output data\n",
    "  # log it, and invert it.\n",
    "  loss = F.cross_entropy(logits, Ytr[ix], label_smoothing=0.00) \n",
    "\n",
    "  #print(loss.item())\n",
    "  \n",
    "  # backward pass\n",
    "  for p in parameters:\n",
    "    p.grad = None\n",
    "  loss.backward()\n",
    "  \n",
    "  # update\n",
    "  #lr = lrs[i]\n",
    "  lr = 0.1 if i < 100000 else 0.01\n",
    "  lr = lr  if i < 200000 else 0.001\n",
    "  for p in parameters:\n",
    "    p.data += -lr * p.grad\n",
    "\n",
    "  # track stats\n",
    "  #lri.append(lre[i])\n",
    "  stepi.append(i)\n",
    "  # lossi.append(loss.log10().item())\n",
    "  lossi.append(loss.log10().item())\n",
    "\n",
    "#print(loss.item())\n"
   ]
  },
  {
   "cell_type": "code",
   "execution_count": 21,
   "metadata": {},
   "outputs": [
    {
     "data": {
      "text/plain": [
       "3.295837068753555"
      ]
     },
     "execution_count": 21,
     "metadata": {},
     "output_type": "execute_result"
    }
   ],
   "source": [
    "import numpy as np\n",
    "np.power(10, lossi[0])"
   ]
  },
  {
   "cell_type": "code",
   "execution_count": 22,
   "metadata": {},
   "outputs": [
    {
     "data": {
      "text/plain": [
       "[<matplotlib.lines.Line2D at 0x137a7f9d0>]"
      ]
     },
     "execution_count": 22,
     "metadata": {},
     "output_type": "execute_result"
    },
    {
     "data": {
      "image/png": "[encoded data removed]",
      "text/plain": [
       "<Figure size 640x480 with 1 Axes>"
      ]
     },
     "metadata": {},
     "output_type": "display_data"
    }
   ],
   "source": [
    "plt.plot(stepi, lossi)\n"
   ]
  },
  {
   "cell_type": "markdown",
   "metadata": {},
   "source": [
    "```\n",
    "default:\n",
    "block_size: 3\n",
    "t_d: 10\n",
    "W1_n: 200\n",
    "\n",
    "default:                      | loss_tr = 2.1146, loss_va = 2.1766, diff ~= .06\n",
    "default:                      | loss_tr = 2.1171, loss_va = 2.1602, diff ~= .04\n",
    "\n",
    "block_size: 5                 | loss_tr = 2.1945, loss_va = 2.2241, diff ~= .03\n",
    "t_d: 11                       | loss_tr = 2.1093, loss_va = 2.1637, diff ~= .05\n",
    "t_d: 12                       | loss_tr = 2.1064, loss_va = 2.1575, diff ~= .05\n",
    "t_d: 12                       | loss_tr = 2.1047, loss_va = 2.1581, diff ~= .05\n",
    "t_d: 12 +  W1_n: 205          | \n",
    "t_d: 15                       | loss_tr = 2.0893, loss_va = 2.1709, diff ~= .08\n",
    "t_d: 20                       | loss_tr = 2.0680, loss_va = 2.1646, diff ~= .1\n",
    "t_d: 20 + 0.1 smoothing       | loss_tr = 2.1085, loss_va = 2.1668, diff ~= .06\n",
    "default + 0.1 smoothing       | loss_tr = 2.1890, loss_va = 2.2265, diff ~= .04\n",
    "default + 0.01 smoothing      | loss_tr = 2.1252, loss_va = 2.1766, diff ~= .05\n",
    "W1_n: 400 + 0.01 smoothing    | loss_tr = 2.1061, loss_va = 2.2481, diff ~= .15\n",
    "W1_n: 1000                    | loss_tr = 2.1061, loss_va = 2.2481, diff ~= .15\n",
    "```\n"
   ]
  },
  {
   "cell_type": "code",
   "execution_count": 23,
   "metadata": {},
   "outputs": [
    {
     "data": {
      "text/plain": [
       "tensor(2.0118, grad_fn=<NllLossBackward0>)"
      ]
     },
     "execution_count": 23,
     "metadata": {},
     "output_type": "execute_result"
    }
   ],
   "source": [
    "emb = C[Xtr] # (32, 3, 2)\n",
    "h = torch.tanh(emb.view(-1, t_d*block_size) @ W1 + b1) # (32, 100)\n",
    "logits = h @ W2 + b2 # (32, 27)\n",
    "loss = F.cross_entropy(logits, Ytr)\n",
    "loss"
   ]
  },
  {
   "cell_type": "code",
   "execution_count": 24,
   "metadata": {},
   "outputs": [
    {
     "data": {
      "text/plain": [
       "tensor(2.1091, grad_fn=<NllLossBackward0>)"
      ]
     },
     "execution_count": 24,
     "metadata": {},
     "output_type": "execute_result"
    }
   ],
   "source": [
    "emb = C[Xdev] # (32, 3, 2)\n",
    "h = torch.tanh(emb.view(-1, t_d*block_size) @ W1 + b1) # (32, 100)\n",
    "logits = h @ W2 + b2 # (32, 27)\n",
    "loss = F.cross_entropy(logits, Ydev)\n",
    "loss"
   ]
  },
  {
   "cell_type": "markdown",
   "metadata": {},
   "source": [
    "E02: I was not careful with the intialization of the network in this video. (1) What is the loss you'd get if the predicted probabilities at initialization were perfectly uniform? What loss do we achieve? (2) Can you tune the initialization to get a starting loss that is much more similar to (1)?\n",
    "\n",
    "suppose probabilities are uniform -- 1/27 for all\n",
    "then likelihood given any outcome is uniform -- 1/27 for all\n",
    "then negative log likelyhood given any outcome is uniform -- -log(1/27)\n",
    "\n",
    "expected initial loss: 3.295836866004329\n",
    "\n",
    "We should also set bias to zero.\n",
    "\n",
    "\n",
    "2.13   | block_size: 3, t_d: 12\n",
    "2.1143 | block_size: 4, t_d: 12\n",
    "2.1133 | block_size: 5, t_d: 12\n",
    "2.1188 | block_size: 5, t_d: 12\n",
    "2.1124 | block_size: 5, t_d: 12\n",
    "\n",
    "okay what if we do the same with the first layer?"
   ]
  },
  {
   "cell_type": "code",
   "execution_count": 25,
   "metadata": {},
   "outputs": [
    {
     "name": "stdout",
     "output_type": "stream",
     "text": [
      "gwaleaya\n",
      "keantosere\n",
      "brittaberer\n",
      "colline\n",
      "jaylou\n",
      "vaiz\n",
      "jaleeza\n",
      "taria\n",
      "zayleee\n",
      "marcey\n",
      "anulisa\n",
      "kanderlie\n",
      "lerix\n",
      "elona\n",
      "brianna\n",
      "khise\n",
      "abubagr\n",
      "pyleeus\n",
      "sofania\n",
      "win\n",
      "graye\n",
      "aneya\n",
      "olaini\n",
      "axi\n",
      "zamius\n",
      "granna\n",
      "kalay\n",
      "maura\n",
      "delon\n",
      "syldyna\n",
      "latdin\n",
      "junika\n",
      "pennie\n",
      "aeri\n",
      "zemari\n",
      "ysan\n",
      "roelen\n",
      "saizlen\n",
      "ramariulo\n",
      "wigsola\n",
      "amela\n",
      "xavel\n",
      "savan\n",
      "manairah\n",
      "terron\n",
      "stami\n",
      "srigona\n",
      "reina\n",
      "ariad\n",
      "brita\n",
      "eslin\n",
      "melk\n",
      "azielleigh\n",
      "dunc\n",
      "esmorel\n",
      "andrer\n",
      "relyun\n",
      "cacia\n",
      "malei\n",
      "tahmiel\n",
      "brene\n",
      "haranna\n",
      "haver\n",
      "sempo\n",
      "slapnt\n",
      "jevon\n",
      "penia\n",
      "ariby\n",
      "vickonalia\n",
      "merorynn\n",
      "joiis\n",
      "innas\n",
      "perna\n",
      "aryan\n",
      "aaklyn\n",
      "brayee\n",
      "lligre\n",
      "kaylee\n",
      "moa\n",
      "hazanelly\n",
      "roniw\n",
      "kazyah\n",
      "brerdy\n",
      "emrina\n",
      "elian\n",
      "gakses\n",
      "avrie\n",
      "lavis\n",
      "mark\n",
      "leina\n",
      "oxany\n",
      "daliree\n",
      "ranusha\n",
      "kaie\n",
      "nak\n",
      "maudi\n",
      "brynllie\n",
      "jenot\n",
      "jaclynn\n",
      "zamir\n",
      "kymia\n",
      "airinno\n",
      "seon\n",
      "corbella\n",
      "olarie\n",
      "milael\n",
      "brancelo\n",
      "darytan\n",
      "ramynn\n",
      "kinzeen\n",
      "kayloi\n",
      "desys\n",
      "synca\n",
      "lean\n",
      "jayler\n",
      "aelynnetlin\n",
      "slyshi\n",
      "janyela\n",
      "rexsee\n",
      "lanley\n",
      "lijeerat\n",
      "domerie\n",
      "merkovios\n",
      "yamlen\n",
      "terfle\n",
      "jayah\n",
      "zoriel\n",
      "shenid\n",
      "caran\n",
      "mata\n",
      "madion\n",
      "rasee\n",
      "phlaush\n",
      "fanysh\n",
      "amin\n",
      "lyian\n",
      "amaza\n",
      "marely\n",
      "azoel\n",
      "idarah\n",
      "bocttie\n",
      "suriah\n",
      "oshon\n",
      "norten\n",
      "caloma\n",
      "joli\n",
      "alia\n",
      "retun\n",
      "rowan\n",
      "mikayah\n",
      "matiemmondeli\n",
      "suda\n",
      "wisengelle\n",
      "ryannyfy\n",
      "sylyrgan\n",
      "lendich\n",
      "toriz\n",
      "phocon\n",
      "luza\n",
      "annalissa\n",
      "juleya\n",
      "kymersen\n",
      "lavon\n",
      "ailani\n",
      "azelena\n",
      "sunoygia\n",
      "seast\n",
      "nyoa\n",
      "vinnlechy\n",
      "anaie\n",
      "denesh\n",
      "zayder\n",
      "bobedee\n",
      "iana\n",
      "stolen\n",
      "nalain\n",
      "tramaela\n",
      "flynn\n",
      "amrick\n",
      "vizhol\n",
      "noiea\n",
      "faauky\n",
      "olaad\n",
      "abfoldyni\n",
      "haceug\n",
      "wyonda\n",
      "luccyan\n",
      "hukrixtal\n",
      "braellen\n",
      "rana\n",
      "rotz\n",
      "juhbhimi\n",
      "lonso\n",
      "sizayah\n",
      "bensecsin\n",
      "adelaiilana\n",
      "yaslayn\n",
      "jamadizo\n",
      "kaemer\n",
      "rovonni\n",
      "kahlee\n",
      "lille\n",
      "kaitlinny\n",
      "paricka\n",
      "macaliyah\n",
      "saiqo\n",
      "christta\n",
      "nialyan\n",
      "munaha\n",
      "afria\n",
      "abdula\n",
      "azelinthai\n",
      "edlanis\n",
      "soloin\n",
      "ailen\n",
      "falmina\n",
      "denia\n",
      "javah\n",
      "barisonsa\n",
      "tysani\n",
      "devos\n",
      "camaed\n",
      "castopi\n",
      "ellian\n",
      "tevan\n",
      "michassonden\n",
      "zarens\n",
      "agirlyn\n",
      "brhon\n",
      "zivli\n",
      "alysa\n",
      "cada\n",
      "aleyza\n",
      "kindlah\n",
      "thionrey\n",
      "destor\n",
      "amanna\n",
      "yasha\n",
      "khylina\n",
      "kaydon\n",
      "kenzy\n",
      "raishainiyah\n",
      "maroleth\n",
      "averee\n",
      "jidni\n",
      "desha\n",
      "johniel\n",
      "ameri\n",
      "adiiah\n",
      "nulilston\n",
      "bravine\n",
      "liphik\n",
      "josianne\n",
      "miyanna\n",
      "ajdi\n",
      "vaarune\n",
      "naira\n",
      "elmiss\n",
      "tairia\n",
      "yioa\n",
      "lupeh\n",
      "yugon\n",
      "noriel\n",
      "marak\n",
      "thande\n",
      "philiano\n",
      "rvare\n",
      "adon\n",
      "thani\n",
      "anikia\n",
      "atory\n",
      "kamdin\n",
      "kasir\n",
      "zirara\n",
      "mairah\n",
      "mauri\n",
      "zazinei\n",
      "kaylie\n",
      "shiroud\n",
      "malond\n",
      "sonwya\n",
      "ayare\n",
      "paykon\n",
      "stefen\n",
      "adhia\n",
      "aquyn\n",
      "cordreste\n",
      "gatrin\n",
      "maanis\n",
      "jeanna\n",
      "miraa\n",
      "toriin\n",
      "leilah\n",
      "noro\n",
      "zedoleta\n",
      "roe\n",
      "mcc\n",
      "emby\n",
      "bryola\n",
      "diavav\n",
      "rashinia\n",
      "khari\n",
      "rane\n",
      "loury\n",
      "maruc\n",
      "shale\n",
      "mira\n",
      "niqa\n",
      "alec\n",
      "jazzyna\n",
      "zezuth\n",
      "jaiah\n",
      "zaveth\n",
      "jaque\n",
      "kenish\n",
      "taruba\n",
      "alaileigh\n",
      "charle\n",
      "chrow\n",
      "layne\n",
      "nerit\n",
      "natas\n",
      "kaurin\n",
      "keylan\n",
      "mickel\n",
      "javon\n",
      "dvigree\n",
      "bernon\n",
      "ashar\n",
      "tracer\n",
      "saese\n",
      "parkor\n",
      "daxson\n",
      "shrua\n",
      "weishawn\n",
      "aere\n",
      "carrell\n",
      "aliyshim\n",
      "vani\n",
      "zura\n",
      "lochza\n",
      "prenley\n",
      "sianna\n",
      "sushon\n",
      "hazei\n",
      "jerriko\n",
      "calel\n",
      "jaipon\n",
      "ader\n",
      "rorel\n",
      "fronara\n",
      "wrendok\n",
      "amilyssa\n",
      "amemly\n",
      "aesha\n",
      "kai\n",
      "delia\n",
      "haden\n",
      "savelle\n",
      "liae\n",
      "tionabel\n",
      "charley\n",
      "rios\n",
      "allynn\n",
      "vyka\n",
      "hodina\n",
      "jahmal\n",
      "amasan\n",
      "mazio\n",
      "jeth\n",
      "zahmarrai\n",
      "camrengemry\n",
      "brenlyn\n",
      "christin\n",
      "avon\n",
      "tarrick\n",
      "ibryn\n",
      "avendy\n",
      "alifah\n",
      "rita\n",
      "raan\n",
      "vayly\n",
      "bentel\n",
      "mary\n",
      "uriebelia\n",
      "bausir\n",
      "josles\n",
      "imariel\n",
      "adis\n",
      "lijay\n",
      "dawios\n",
      "royle\n",
      "karou\n",
      "hallus\n",
      "safeu\n",
      "mayviema\n",
      "nakod\n",
      "kennn\n",
      "imyten\n",
      "azure\n",
      "avraldin\n",
      "rawuna\n",
      "autum\n",
      "ayalee\n",
      "britt\n",
      "kasyn\n",
      "layxa\n",
      "janid\n",
      "vikta\n",
      "arlent\n",
      "shaan\n",
      "france\n",
      "eliyana\n",
      "daizy\n",
      "irays\n",
      "calme\n",
      "bayna\n",
      "samiaria\n",
      "romi\n",
      "key\n",
      "eveme\n",
      "sarriel\n",
      "jivooni\n",
      "kousury\n",
      "kylan\n",
      "pane\n",
      "remon\n",
      "evy\n",
      "wylann\n",
      "aalim\n",
      "aleki\n",
      "con\n",
      "dwyanne\n",
      "evbri\n",
      "kaniyrys\n",
      "nura\n",
      "khyann\n",
      "addarionesmand\n",
      "meiman\n",
      "briol\n",
      "yonni\n",
      "ameyr\n",
      "malynn\n",
      "adisa\n",
      "amonna\n",
      "kaitle\n",
      "tada\n",
      "clence\n",
      "kora\n",
      "clayra\n",
      "mariaus\n",
      "truvi\n",
      "casaria\n",
      "kney\n",
      "alylyana\n",
      "brook\n",
      "kiovi\n",
      "tevyo\n",
      "giarly\n",
      "ramja\n",
      "ashahifan\n",
      "miria\n",
      "gurharvion\n",
      "haily\n",
      "cvanjona\n",
      "marli\n",
      "nairah\n",
      "kanla\n",
      "niaha\n",
      "juz\n",
      "lanaiah\n",
      "jaemid\n",
      "damynt\n",
      "green\n",
      "madnoch\n",
      "yamoro\n",
      "malec\n",
      "mikitr\n",
      "letin\n",
      "austiee\n",
      "kairah\n",
      "kasii\n",
      "somari\n",
      "lawna\n",
      "ravonton\n",
      "suna\n",
      "sonnon\n",
      "felly\n",
      "garadi\n",
      "paeray\n",
      "dlorecce\n",
      "brennley\n",
      "kassa\n",
      "cylmencx\n",
      "mavianni\n",
      "carler\n",
      "lakyeami\n",
      "xore\n",
      "oley\n",
      "tysxanna\n"
     ]
    }
   ],
   "source": [
    "# Exercise: derive generate code\n",
    "\n",
    "def gen_word():\n",
    "    context = [0] * block_size\n",
    "    while True:\n",
    "      emb = C[context[-block_size:]] # (1, 3, 2)\n",
    "      h = torch.tanh(emb.view(-1, t_d*block_size) @ W1 + b1) # (block_size, 100)\n",
    "      logits = h @ W2 + b2 # (32, 27)\n",
    "      # get probabilities\n",
    "      probs = torch.softmax(logits, dim=1)\n",
    "      iy = torch.multinomial(probs, num_samples=1, replacement=True, generator=g)\n",
    "      if iy.item() == 0:\n",
    "        break\n",
    "      context = context + [iy.item()] # crop and append\n",
    "    word = []\n",
    "    for c in context[block_size:]:\n",
    "      word.append(itos[c])\n",
    "    return \"\".join(word)\n",
    "\n",
    "for _ in range(500):\n",
    "  print(gen_word())"
   ]
  },
  {
   "cell_type": "code",
   "execution_count": 26,
   "metadata": {},
   "outputs": [
    {
     "data": {
      "text/plain": [
       "3.295836866004329"
      ]
     },
     "execution_count": 26,
     "metadata": {},
     "output_type": "execute_result"
    }
   ],
   "source": [
    "import numpy as np\n",
    "-1 * np.log(1/27)"
   ]
  },
  {
   "cell_type": "code",
   "execution_count": 27,
   "metadata": {},
   "outputs": [
    {
     "data": {
      "image/png": "[encoded data removed]",
      "text/plain": [
       "<Figure size 800x800 with 1 Axes>"
      ]
     },
     "metadata": {},
     "output_type": "display_data"
    }
   ],
   "source": [
    "# visualize dimensions 0 and 1 of the embedding matrix C for all characters\n",
    "plt.figure(figsize=(8,8))\n",
    "plt.scatter(C[:,0].data, C[:,1].data, s=200)\n",
    "for i in range(C.shape[0]):\n",
    "    plt.text(C[i,0].item(), C[i,1].item(), itos[i], ha=\"center\", va=\"center\", color='white')\n",
    "plt.grid('minor')"
   ]
  },
  {
   "cell_type": "code",
   "execution_count": 57,
   "metadata": {},
   "outputs": [
    {
     "data": {
      "image/png": "[encoded data removed]",
      "text/plain": [
       "<Figure size 800x800 with 1 Axes>"
      ]
     },
     "metadata": {},
     "output_type": "display_data"
    }
   ],
   "source": [
    "import umap\n",
    "# visualize umapped embedding matrix C for all characters\n",
    "\n",
    "C_r = umap.UMAP(n_components=2, n_neighbors=2, min_dist=1, metric=\"cosine\").fit_transform(C.detach().numpy())\n",
    "\n",
    "\n",
    "plt.figure(figsize=(8,8))\n",
    "plt.scatter(C_r[:,0].data, C_r[:,1].data, s=200)\n",
    "for i in range(C_r.shape[0]):\n",
    "    plt.text(C_r[i,0].item(), C_r[i,1].item(), itos[i], ha=\"center\", va=\"center\", color='white')\n",
    "plt.grid('minor')"
   ]
  }
 ],
 "metadata": {
  "kernelspec": {
   "display_name": "python-3.11.6",
   "language": "python",
   "name": "python3"
  },
  "language_info": {
   "codemirror_mode": {
    "name": "ipython",
    "version": 3
   },
   "file_extension": ".py",
   "mimetype": "text/x-python",
   "name": "python",
   "nbconvert_exporter": "python",
   "pygments_lexer": "ipython3",
   "version": "3.11.6"
  }
 },
 "nbformat": 4,
 "nbformat_minor": 2
}
